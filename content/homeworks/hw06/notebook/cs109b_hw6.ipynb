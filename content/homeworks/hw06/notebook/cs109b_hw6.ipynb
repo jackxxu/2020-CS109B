{
 "cells": [
  {
   "cell_type": "markdown",
   "metadata": {},
   "source": [
    "# <img style=\"float: left; padding-right: 10px; width: 45px\" src=\"https://raw.githubusercontent.com/Harvard-IACS/2018-CS109A/master/content/styles/iacs.png\"> CS109B Data Science 2: Advanced Topics in Data Science \n",
    "## Homework 6 - RNNs\n",
    "\n",
    "\n",
    "\n",
    "**Harvard University**<br/>\n",
    "**Fall 2020**<br/>\n",
    "**Instructors**: Mark Glickman, Pavlos Protopapas, & Chris Tanner\n",
    "\n",
    "\n",
    "<hr style=\"height:2pt\">"
   ]
  },
  {
   "cell_type": "code",
   "execution_count": 1,
   "metadata": {},
   "outputs": [
    {
     "data": {
      "text/html": [
       "<style>\n",
       "blockquote { background: #AEDE94; }\n",
       "h1 { \n",
       "    padding-top: 25px;\n",
       "    padding-bottom: 25px;\n",
       "    text-align: left; \n",
       "    padding-left: 10px;\n",
       "    background-color: #DDDDDD; \n",
       "    color: black;\n",
       "}\n",
       "h2 { \n",
       "    padding-top: 10px;\n",
       "    padding-bottom: 10px;\n",
       "    text-align: left; \n",
       "    padding-left: 5px;\n",
       "    background-color: #EEEEEE; \n",
       "    color: black;\n",
       "}\n",
       "\n",
       "div.exercise {\n",
       "\tbackground-color: #ffcccc;\n",
       "\tborder-color: #E9967A; \t\n",
       "\tborder-left: 5px solid #800080; \n",
       "\tpadding: 0.5em;\n",
       "}\n",
       "\n",
       "span.sub-q {\n",
       "\tfont-weight: bold;\n",
       "}\n",
       "div.theme {\n",
       "\tbackground-color: #DDDDDD;\n",
       "\tborder-color: #E9967A; \t\n",
       "\tborder-left: 5px solid #800080; \n",
       "\tpadding: 0.5em;\n",
       "\tfont-size: 18pt;\n",
       "}\n",
       "div.gc { \n",
       "\tbackground-color: #AEDE94;\n",
       "\tborder-color: #E9967A; \t \n",
       "\tborder-left: 5px solid #800080; \n",
       "\tpadding: 0.5em;\n",
       "\tfont-size: 12pt;\n",
       "}\n",
       "p.q1 { \n",
       "    padding-top: 5px;\n",
       "    padding-bottom: 5px;\n",
       "    text-align: left; \n",
       "    padding-left: 5px;\n",
       "    background-color: #EEEEEE; \n",
       "    color: black;\n",
       "}\n",
       "header {\n",
       "   padding-top: 35px;\n",
       "    padding-bottom: 35px;\n",
       "    text-align: left; \n",
       "    padding-left: 10px;\n",
       "    background-color: #DDDDDD; \n",
       "    color: black;\n",
       "}\n",
       "</style>\n",
       "\n"
      ],
      "text/plain": [
       "<IPython.core.display.HTML object>"
      ]
     },
     "execution_count": 1,
     "metadata": {},
     "output_type": "execute_result"
    }
   ],
   "source": [
    "#RUN THIS CELL \n",
    "import requests\n",
    "from IPython.core.display import HTML\n",
    "styles = requests.get(\"https://raw.githubusercontent.com/Harvard-IACS/2018-CS109A/master/content/styles/cs109.css\").text\n",
    "HTML(styles)"
   ]
  },
  {
   "cell_type": "markdown",
   "metadata": {},
   "source": [
    "### INSTRUCTIONS\n",
    "\n",
    "<span style=\"color:red\">**Model training can be very slow; start doing this HW early**</span>\n",
    "\n",
    "- To submit your assignment follow the instructions given in Canvas.\n",
    "\n",
    "- This homework can be submitted in pairs.\n",
    "\n",
    "- If you submit individually but you have worked with someone, please include the name of your **one** partner below.\n",
    "- Please restart the kernel and run the entire notebook again before you submit.\n",
    "\n",
    "**Names of person you have worked with goes here:**\n",
    "<br><BR>"
   ]
  },
  {
   "cell_type": "markdown",
   "metadata": {},
   "source": [
    "<div class=\"theme\"> Overview: Named Entity Recognition Challenge</div>"
   ]
  },
  {
   "cell_type": "markdown",
   "metadata": {},
   "source": [
    "Named entity recognition (NER) seeks to locate and classify named entities present in unstructured text into predefined categories such as organizations, locations, expressions of times, names of persons, etc. This technique is often used in real use cases such as classifying content for news providers, efficient search algorithms over large corpora and content-based recommendation systems. \n",
    "\n",
    "This represents an interesting \"many-to-many\" problem, allowing us to experiment with recurrent architectures and compare their performances against other models.\n"
   ]
  },
  {
   "cell_type": "code",
   "execution_count": 2,
   "metadata": {},
   "outputs": [],
   "source": [
    "import pandas as pd\n",
    "import numpy as np\n",
    "\n",
    "from sklearn.metrics import f1_score, confusion_matrix\n",
    "from sklearn.model_selection import train_test_split\n",
    "from sklearn.decomposition import PCA\n",
    "\n",
    "import matplotlib.pyplot as plt\n",
    "plt.style.use(\"ggplot\")"
   ]
  },
  {
   "cell_type": "code",
   "execution_count": 3,
   "metadata": {},
   "outputs": [
    {
     "name": "stdout",
     "output_type": "stream",
     "text": [
      "2.2.4-tf\n",
      "2.0.0\n"
     ]
    }
   ],
   "source": [
    "import tensorflow as tf\n",
    "\n",
    "from tensorflow.keras.preprocessing.sequence import pad_sequences\n",
    "from tensorflow.keras.utils import to_categorical\n",
    "from tensorflow.keras import backend\n",
    "\n",
    "from tensorflow.keras import Model, Sequential\n",
    "from tensorflow.keras.models import model_from_json\n",
    "from tensorflow.keras.layers import Input, SimpleRNN, Embedding, Dense, TimeDistributed, GRU, \\\n",
    "                          Dropout, Bidirectional, Conv1D, BatchNormalization\n",
    "\n",
    "print(tf.keras.__version__)\n",
    "print(tf.__version__)"
   ]
  },
  {
   "cell_type": "code",
   "execution_count": 4,
   "metadata": {},
   "outputs": [],
   "source": [
    "# Set seed for repeatable results\n",
    "np.random.seed(123)\n",
    "tf.random.set_seed(456)"
   ]
  },
  {
   "cell_type": "markdown",
   "metadata": {
    "colab_type": "text",
    "id": "rUkgUGwJXUcH"
   },
   "source": [
    "<div class=\"theme\"> Part 1: Data </div>\n",
    "Read `HW6_data.csv` into a pandas dataframe using the provided code below."
   ]
  },
  {
   "cell_type": "code",
   "execution_count": 11,
   "metadata": {},
   "outputs": [
    {
     "name": "stdout",
     "output_type": "stream",
     "text": [
      "(1048575, 4)\n",
      "     Sentence #           Word  POS    Tag\n",
      "0   Sentence: 1      Thousands  NNS      O\n",
      "1   Sentence: 1             of   IN      O\n",
      "2   Sentence: 1  demonstrators  NNS      O\n",
      "3   Sentence: 1           have  VBP      O\n",
      "4   Sentence: 1        marched  VBN      O\n",
      "5   Sentence: 1        through   IN      O\n",
      "6   Sentence: 1         London  NNP  B-geo\n",
      "7   Sentence: 1             to   TO      O\n",
      "8   Sentence: 1        protest   VB      O\n",
      "9   Sentence: 1            the   DT      O\n",
      "10  Sentence: 1            war   NN      O\n",
      "11  Sentence: 1             in   IN      O\n",
      "12  Sentence: 1           Iraq  NNP  B-geo\n",
      "13  Sentence: 1            and   CC      O\n",
      "14  Sentence: 1         demand   VB      O\n"
     ]
    }
   ],
   "source": [
    "# Given code\n",
    "path_dataset = './data/HW6_data.csv'\n",
    "data = pd.read_csv(path_dataset,\n",
    "                   encoding=\"latin1\")\n",
    "data = data.fillna(method=\"ffill\")\n",
    "print(data.shape)\n",
    "print(data.head(15))"
   ]
  },
  {
   "cell_type": "code",
   "execution_count": 10,
   "metadata": {},
   "outputs": [
    {
     "data": {
      "text/plain": [
       "O        887908\n",
       "B-geo     37644\n",
       "B-tim     20333\n",
       "B-org     20143\n",
       "I-per     17251\n",
       "B-per     16990\n",
       "I-org     16784\n",
       "B-gpe     15870\n",
       "I-geo      7414\n",
       "I-tim      6528\n",
       "B-art       402\n",
       "B-eve       308\n",
       "I-art       297\n",
       "I-eve       253\n",
       "B-nat       201\n",
       "I-gpe       198\n",
       "I-nat        51\n",
       "Name: Tag, dtype: int64"
      ]
     },
     "execution_count": 10,
     "metadata": {},
     "output_type": "execute_result"
    }
   ],
   "source": [
    "data.Tag.value_counts()"
   ]
  },
  {
   "cell_type": "markdown",
   "metadata": {},
   "source": [
    "As you can see, we have a dataset with sentences (```Sentence #``` column), each composed of words (```Word``` column) with part-of-speech tagging (```POS``` tagging) and inside–outside–beginning (IOB) named entity tags (```Tag``` column) attached. ```POS``` will not be used for this homework. We will predict ```Tag``` using only the words themselves.\n",
    "\n",
    "Essential info about entities:\n",
    "* geo = Geographical Entity\n",
    "* org = Organization\n",
    "* per = Person\n",
    "* gpe = Geopolitical Entity\n",
    "* tim = Time indicator\n",
    "* art = Artifact\n",
    "* eve = Event\n",
    "* nat = Natural Phenomenon\n",
    "\n",
    "IOB prefix:\n",
    "* B: beginning of named entity\n",
    "* I: inside of named entity\n",
    "* O: outside of named entity\n"
   ]
  },
  {
   "cell_type": "markdown",
   "metadata": {},
   "source": [
    "<div class='exercise'><b> Question 1: Data [20 points total]</b></div>\n",
    "\n",
    "**1.1** Create a list of unique words found in the 'Word' column and sort it in alphabetic order. Then append the special word \"ENDPAD\" to the end of the list, and assign it to the variable ```words```. Store the length of this list as ```n_words```. **Print your results for `n_words`**\n",
    "\n",
    "**1.2** Create a list of unique tags and sort it in alphabetic order. Then append the special word \"PAD\" to the end of the list, and assign it to the variable ```tags```. Store the length of this list as ```n_tags```. **Print your results for `n_tags`**\n",
    "\n",
    "**1.3** Process the data into a list of sentences where each sentence is a list of (word, tag) tuples. Here is an example of how the first sentence in the list should look:\n",
    "\n",
    "[('Thousands', 'O'),\n",
    " ('of',  'O'),\n",
    " ('demonstrators', 'O'),\n",
    " ('have', 'O'),\n",
    " ('marched', 'O'),\n",
    " ('through', 'O'),\n",
    " ('London', 'B-geo'),\n",
    " ('to', 'O'),\n",
    " ('protest', 'O'),\n",
    " ('the', 'O'),\n",
    " ('war', 'O'),\n",
    " ('in', 'O'),\n",
    " ('Iraq', 'B-geo'),\n",
    " ('and', 'O'),\n",
    " ('demand', 'O'),\n",
    " ('the', 'O'),\n",
    " ('withdrawal', 'O'),\n",
    " ('of', 'O'),\n",
    " ('British', 'B-gpe'),\n",
    " ('troops', 'O'),\n",
    " ('from', 'O'),\n",
    " ('that', 'O'),\n",
    " ('country', 'O'),\n",
    " ('.', 'O')]\n",
    " \n",
    "**1.4** Find out the number of words in the longest sentence, and store it to variable ```max_len```. **Print your results for `max_len`.**\n",
    "\n",
    "**1.5** It's now time to convert the sentences data in a suitable format for the RNNs training/evaluation procedures. Create a ```word2idx``` dictionary mapping distinct words from the dataset into distinct integers. Also create a ```idx2word``` dictionary.\n",
    "\n",
    "**1.6** Prepare the predictors matrix ```X```, as a list of lists, where each inner list is a sequence of words mapped into integers accordly to the ```word2idx``` dictionary. \n",
    "\n",
    "**1.7** Apply the keras ```pad_sequences``` function to standardize the predictors. You should retrieve a matrix with all padded sentences and length equal to ```max_len``` previously computed. The dimensionality should therefore be equal to ```[# of sentences, max_len]```. Run the provided cell to print your results. Your ```X[i]``` now should be something similar to this:\n",
    "\n",
    "`[ 8193 27727 31033 33289 22577 33464 23723 16665 33464 31142 31319 28267\n",
    " 27700 33246 28646 16052    21 16915 17349  7924 32879 32985 18238 23555\n",
    "    24 35178 35178 35178 35178 35178 35178 35178 35178 35178 35178 35178\n",
    " 35178 35178 35178 35178 35178 35178 35178 35178 35178 35178 35178 35178\n",
    " 35178 35178 35178 35178 35178 35178 35178 35178 35178 35178 35178 35178\n",
    " 35178 35178 35178 35178 35178 35178 35178 35178 35178 35178 35178 35178\n",
    " 35178 35178 35178 35178 35178 35178 35178 35178 35178 35178 35178 35178\n",
    " 35178 35178 35178 35178 35178 35178 35178 35178 35178 35178 35178 35178\n",
    " 35178 35178 35178 35178 35178 35178 35178 35178]`\n",
    " \n",
    "**1.8** Create a ```tag2idx``` dictionary mapping distinct named entity tags from the dataset into distinct integers. Also create a ```idx2tag``` dictionary.\n",
    "\n",
    "**1.9** Prepare targets matrix ```Y```, as a list of lists,where each inner list is a sequence of tags mapped into integers accordly to the ```tag2idx``` dictionary.\n",
    "\n",
    "**1.10** apply the keras ```pad_sequences``` function to standardize the targets. Inject the ```PAD``` tag for the padding words. You should retrieve a matrix with all padded sentences'tags and length equal to ```max_length``` previously computed. \n",
    "\n",
    "**1.11** Use the ```to_categorical``` keras function to one-hot encode the tags. Now your ```Y``` should have dimension ```[# of sentences, max_len, n_tags]```. Run the provided cell to print your results.\n",
    "\n",
    "**1.12** Split the dataset into train and test sets (test 10%)."
   ]
  },
  {
   "cell_type": "markdown",
   "metadata": {
    "colab_type": "text",
    "id": "hBtmANNuuS6h"
   },
   "source": [
    "## Answers"
   ]
  },
  {
   "cell_type": "markdown",
   "metadata": {},
   "source": [
    "**1.1** Create a list of unique words found in the 'Word' column and sort it in alphabetic order. Then append the special word \"ENDPAD\" to the end of the list, and assign it to the variable ```words```. Store the length of this list as ```n_words```. **Print your results for `n_words`**"
   ]
  },
  {
   "cell_type": "code",
   "execution_count": 23,
   "metadata": {},
   "outputs": [],
   "source": [
    "# your code here\n",
    "words = np.append(data.Word.unique(), 'ENDPAD')\n",
    "n_words = len(words)"
   ]
  },
  {
   "cell_type": "code",
   "execution_count": 24,
   "metadata": {},
   "outputs": [
    {
     "name": "stdout",
     "output_type": "stream",
     "text": [
      "35179\n"
     ]
    }
   ],
   "source": [
    "# Run this cell to show your results for n_words\n",
    "print(n_words)"
   ]
  },
  {
   "cell_type": "markdown",
   "metadata": {},
   "source": [
    "**1.2** Create a list of unique tags and sort it in alphabetic order. Then append the special word \"PAD\" to the end of the list, and assign it to the variable ```tags```. Store the length of this list as ```n_tags```. **Print your results for `n_tags`**"
   ]
  },
  {
   "cell_type": "code",
   "execution_count": 25,
   "metadata": {},
   "outputs": [],
   "source": [
    "# your code here\n",
    "tags = np.append(data.Tag.unique(), 'PAD')\n",
    "n_tags = len(tags)"
   ]
  },
  {
   "cell_type": "code",
   "execution_count": 26,
   "metadata": {},
   "outputs": [
    {
     "name": "stdout",
     "output_type": "stream",
     "text": [
      "18\n"
     ]
    }
   ],
   "source": [
    "# Run this cell to show your results for n_tags\n",
    "print(n_tags)"
   ]
  },
  {
   "cell_type": "markdown",
   "metadata": {},
   "source": [
    "**1.3** Process the data into a list of sentences where each sentence is a list of (word, tag) tuples. Here is an example of how the first sentence in the list should look:\n",
    "\n",
    "[('Thousands', 'O'),\n",
    " ('of',  'O'),\n",
    " ('demonstrators', 'O'),\n",
    " ('have', 'O'),\n",
    " ('marched', 'O'),\n",
    " ('through', 'O'),\n",
    " ('London', 'B-geo'),\n",
    " ('to', 'O'),\n",
    " ('protest', 'O'),\n",
    " ('the', 'O'),\n",
    " ('war', 'O'),\n",
    " ('in', 'O'),\n",
    " ('Iraq', 'B-geo'),\n",
    " ('and', 'O'),\n",
    " ('demand', 'O'),\n",
    " ('the', 'O'),\n",
    " ('withdrawal', 'O'),\n",
    " ('of', 'O'),\n",
    " ('British', 'B-gpe'),\n",
    " ('troops', 'O'),\n",
    " ('from', 'O'),\n",
    " ('that', 'O'),\n",
    " ('country', 'O'),\n",
    " ('.', 'O')]\n",
    " "
   ]
  },
  {
   "cell_type": "code",
   "execution_count": 96,
   "metadata": {},
   "outputs": [],
   "source": [
    "# your code here\n",
    "\n",
    "sentences = data[['Sentence #', 'Word', 'Tag']]                                     \\\n",
    "                .groupby(['Sentence #'])                                            \\\n",
    "                .apply(lambda x: [tuple(r) for r in x[['Word', 'Tag']].to_numpy()]) \\\n",
    "                .values"
   ]
  },
  {
   "cell_type": "markdown",
   "metadata": {},
   "source": [
    "**1.4** Find out the number of words in the longest sentence, and store it to variable ```max_len```. **Print your results for `max_len`.**"
   ]
  },
  {
   "cell_type": "code",
   "execution_count": 101,
   "metadata": {},
   "outputs": [],
   "source": [
    "# your code here\n",
    "# sentences\n",
    "\n",
    "max_len = np.max([len(sentence) for sentence in sentences])"
   ]
  },
  {
   "cell_type": "code",
   "execution_count": 102,
   "metadata": {},
   "outputs": [
    {
     "name": "stdout",
     "output_type": "stream",
     "text": [
      "104\n"
     ]
    }
   ],
   "source": [
    "# Run this cell to show your results for max_len\n",
    "print(max_len)"
   ]
  },
  {
   "cell_type": "markdown",
   "metadata": {},
   "source": [
    "**1.5** It's now time to convert the sentences data in a suitable format for the RNNs training/evaluation procedures. Create a ```word2idx``` dictionary mapping distinct words from the dataset into distinct integers. Also create a ```idx2word``` dictionary."
   ]
  },
  {
   "cell_type": "code",
   "execution_count": 146,
   "metadata": {},
   "outputs": [],
   "source": [
    "# your code here\n",
    "word2idx = {words[i]: i for i in range(len(words))} \n",
    "idx2word = {i: words[i] for i in range(len(words))} "
   ]
  },
  {
   "cell_type": "markdown",
   "metadata": {},
   "source": [
    "**1.6** Prepare the predictors matrix ```X```, as a list of lists, where each inner list is a sequence of words mapped into integers accordly to the ```word2idx``` dictionary. "
   ]
  },
  {
   "cell_type": "code",
   "execution_count": 140,
   "metadata": {},
   "outputs": [
    {
     "data": {
      "text/plain": [
       "array([list([0, 1, 2, 3, 4, 5, 6, 7, 8, 9, 10, 11, 12, 13, 14, 9, 15, 1, 16, 17, 18, 19, 20, 21]),\n",
       "       list([124, 125, 126, 127, 128, 7, 129, 130, 7, 131, 132, 118, 1, 9, 123, 107, 93, 133, 134, 135, 136, 137, 138, 139, 21]),\n",
       "       list([942, 943, 363, 944, 344, 945, 11, 9, 946, 248, 200, 93, 251, 317, 947, 193, 180, 948, 7, 3, 332, 7, 949, 134, 376, 305, 311, 11, 950, 543, 544, 21]),\n",
       "       ...,\n",
       "       list([3183, 110, 68, 7852, 1253, 4671, 362, 93, 1791, 225, 172, 2168, 1, 324, 189, 2172, 11, 977, 31, 686, 330, 194, 15462, 93, 3565, 4233, 21]),\n",
       "       list([6502, 3206, 93, 871, 3, 810, 418, 2882, 1, 9, 827, 13, 2558, 7, 16288, 1921, 125, 751, 9, 293, 21]),\n",
       "       list([61, 580, 819, 78, 8241, 9, 1859, 1, 305, 828, 7, 5436, 1540, 13, 3532, 3614, 11, 15214, 862, 93, 929, 9, 1729, 180, 35, 3727, 247, 6788, 11, 3719, 21, 35])],\n",
       "      dtype=object)"
      ]
     },
     "execution_count": 140,
     "metadata": {},
     "output_type": "execute_result"
    }
   ],
   "source": [
    "# your code here\n",
    "X_unpadded = np.array([ list([ word2idx[tup[0]] for tup in sentence]) for sentence in sentences])\n",
    "\n",
    "X_unpadded"
   ]
  },
  {
   "cell_type": "markdown",
   "metadata": {},
   "source": [
    "**1.7** Apply the keras ```pad_sequences``` function to standardize the predictors. You should retrieve a matrix with all padded sentences and length equal to ```max_len``` previously computed. The dimensionality should therefore be equal to ```[# of sentences, max_len]```. Run the provided cell to print your results. Your ```X[i]``` now should be something similar to this:\n",
    "\n",
    "`[ 8193 27727 31033 33289 22577 33464 23723 16665 33464 31142 31319 28267\n",
    " 27700 33246 28646 16052    21 16915 17349  7924 32879 32985 18238 23555\n",
    "    24 35178 35178 35178 35178 35178 35178 35178 35178 35178 35178 35178\n",
    " 35178 35178 35178 35178 35178 35178 35178 35178 35178 35178 35178 35178\n",
    " 35178 35178 35178 35178 35178 35178 35178 35178 35178 35178 35178 35178\n",
    " 35178 35178 35178 35178 35178 35178 35178 35178 35178 35178 35178 35178\n",
    " 35178 35178 35178 35178 35178 35178 35178 35178 35178 35178 35178 35178\n",
    " 35178 35178 35178 35178 35178 35178 35178 35178 35178 35178 35178 35178\n",
    " 35178 35178 35178 35178 35178 35178 35178 35178]`"
   ]
  },
  {
   "cell_type": "code",
   "execution_count": 144,
   "metadata": {},
   "outputs": [],
   "source": [
    "# your code here\n",
    "\n",
    "X = pad_sequences(X_unpadded, maxlen=max_len, padding='post', value=word2idx['PAD'])"
   ]
  },
  {
   "cell_type": "code",
   "execution_count": 145,
   "metadata": {},
   "outputs": [
    {
     "name": "stdout",
     "output_type": "stream",
     "text": [
      "The index of word 'Harvard' is: 25913\n",
      "\n",
      "Sentence 1: [  124   125   126   127   128     7   129   130     7   131   132   118\n",
      "     1     9   123   107    93   133   134   135   136   137   138   139\n",
      "    21 12932 12932 12932 12932 12932 12932 12932 12932 12932 12932 12932\n",
      " 12932 12932 12932 12932 12932 12932 12932 12932 12932 12932 12932 12932\n",
      " 12932 12932 12932 12932 12932 12932 12932 12932 12932 12932 12932 12932\n",
      " 12932 12932 12932 12932 12932 12932 12932 12932 12932 12932 12932 12932\n",
      " 12932 12932 12932 12932 12932 12932 12932 12932 12932 12932 12932 12932\n",
      " 12932 12932 12932 12932 12932 12932 12932 12932 12932 12932 12932 12932\n",
      " 12932 12932 12932 12932 12932 12932 12932 12932]\n",
      "\n",
      "(47959, 104)\n"
     ]
    }
   ],
   "source": [
    "# Run this cell to show your results #\n",
    "print(\"The index of word 'Harvard' is: {}\\n\".format(word2idx[\"Harvard\"]))\n",
    "print(\"Sentence 1: {}\\n\".format(X[1]))\n",
    "print(X.shape)"
   ]
  },
  {
   "cell_type": "markdown",
   "metadata": {},
   "source": [
    "**1.8** Create a ```tag2idx``` dictionary mapping distinct named entity tags from the dataset into distinct integers. Also create a ```idx2tag``` dictionary."
   ]
  },
  {
   "cell_type": "code",
   "execution_count": 147,
   "metadata": {},
   "outputs": [],
   "source": [
    "# your code here\n",
    "\n",
    "tag2idx = {tags[i]: i for i in range(len(tags))} \n",
    "idx2tag = {i: tags[i] for i in range(len(tags))} "
   ]
  },
  {
   "cell_type": "markdown",
   "metadata": {},
   "source": [
    "**1.9** Prepare targets matrix ```Y```, as a list of lists,where each inner list is a sequence of tags mapped into integers accordly to the ```tag2idx``` dictionary."
   ]
  },
  {
   "cell_type": "code",
   "execution_count": 160,
   "metadata": {},
   "outputs": [
    {
     "data": {
      "text/plain": [
       "array([list([0, 0, 0, 0, 0, 0, 1, 0, 0, 0, 0, 0, 1, 0, 0, 0, 0, 0, 2, 0, 0, 0, 0, 0]),\n",
       "       list([2, 0, 0, 0, 0, 0, 0, 0, 0, 0, 0, 0, 0, 0, 0, 7, 0, 0, 0, 5, 0, 0, 0, 0, 0]),\n",
       "       list([0, 0, 7, 0, 0, 0, 0, 0, 1, 0, 0, 0, 0, 0, 5, 0, 0, 0, 0, 0, 0, 0, 0, 0, 0, 0, 0, 0, 0, 1, 4, 0]),\n",
       "       ...,\n",
       "       list([0, 1, 0, 0, 7, 12, 0, 0, 0, 0, 0, 0, 0, 0, 0, 0, 0, 0, 0, 0, 0, 0, 0, 0, 0, 0, 0]),\n",
       "       list([0, 0, 0, 0, 0, 0, 0, 0, 0, 0, 0, 0, 0, 0, 0, 0, 0, 0, 0, 0, 0]),\n",
       "       list([0, 5, 6, 0, 0, 0, 0, 0, 0, 0, 0, 0, 0, 0, 0, 0, 0, 7, 12, 0, 0, 0, 0, 0, 0, 0, 0, 0, 0, 0, 0, 0])],\n",
       "      dtype=object)"
      ]
     },
     "execution_count": 160,
     "metadata": {},
     "output_type": "execute_result"
    }
   ],
   "source": [
    "# your code here\n",
    "\n",
    "y_unpadded = np.array([ list([ tag2idx[tup[1]] for tup in sentence]) for sentence in sentences])\n",
    "\n",
    "y_unpadded"
   ]
  },
  {
   "cell_type": "markdown",
   "metadata": {},
   "source": [
    "**1.10** apply the keras ```pad_sequences``` function to standardize the targets. Inject the ```PAD``` tag for the padding words. You should retrieve a matrix with all padded sentences'tags and length equal to ```max_length``` previously computed. "
   ]
  },
  {
   "cell_type": "code",
   "execution_count": 161,
   "metadata": {},
   "outputs": [
    {
     "data": {
      "text/plain": [
       "(47959, 104)"
      ]
     },
     "execution_count": 161,
     "metadata": {},
     "output_type": "execute_result"
    }
   ],
   "source": [
    "# your code here\n",
    "y = pad_sequences(y_unpadded, maxlen=max_len, padding='post', value=tag2idx['PAD'])\n",
    "\n",
    "y.shape"
   ]
  },
  {
   "cell_type": "markdown",
   "metadata": {},
   "source": [
    "**1.11** Use the ```to_categorical``` keras function to one-hot encode the tags. Now your ```Y``` should have dimension ```[# of sentences, max_len, n_tags]```. Run the provided cell to print your results."
   ]
  },
  {
   "cell_type": "code",
   "execution_count": 162,
   "metadata": {},
   "outputs": [],
   "source": [
    "# your code here\n",
    "\n",
    "y = to_categorical(y)"
   ]
  },
  {
   "cell_type": "code",
   "execution_count": 163,
   "metadata": {},
   "outputs": [
    {
     "name": "stdout",
     "output_type": "stream",
     "text": [
      "The index of tag 'B-gpe' is: 2\n",
      "\n",
      "The tag of the last word in Sentence 1: [0. 0. 0. 0. 0. 0. 0. 0. 0. 0. 0. 0. 0. 0. 0. 0. 0. 1.]\n",
      "\n",
      "(47959, 104, 18)\n"
     ]
    }
   ],
   "source": [
    "# Run this cell to show your results #\n",
    "print(\"The index of tag 'B-gpe' is: {}\\n\".format(tag2idx[\"B-gpe\"]))\n",
    "print(\"The tag of the last word in Sentence 1: {}\\n\".format(y[0][-1]))\n",
    "print(np.array(y).shape)"
   ]
  },
  {
   "cell_type": "markdown",
   "metadata": {},
   "source": [
    "**1.12** Split the dataset into train and test sets (test 10%)."
   ]
  },
  {
   "cell_type": "code",
   "execution_count": 167,
   "metadata": {},
   "outputs": [],
   "source": [
    "# your code here\n",
    "\n",
    "X_train, X_test, y_train, y_test = train_test_split(X, y, test_size=0.1, random_state=42)"
   ]
  },
  {
   "cell_type": "markdown",
   "metadata": {},
   "source": [
    "## Part 2: Modelling\n",
    "\n",
    "After preparing the train and test sets, we are ready to build five models: \n",
    "* frequency-based baseline \n",
    "* vanilla feedforward neural network\n",
    "* recurrent neural network\n",
    "* gated recurrent neural network\n",
    "* bidirectional gated recurrent neural network\n",
    "\n",
    "More details are given about architecture in each model's section. The input/output dimensionalities will be the same for all models:\n",
    "* input: ```[# of sentences, max_len]```\n",
    "* output: ```[# of sentences, max_len, n_tags]```\n",
    "\n",
    "Follow the information in each model's section to set up the architecture of each model. And the end of each training, use the given ```store_model``` function to store the weights and architectures in the ```./models``` path for later testing;```load_keras_model()``` is also provided to you\n",
    "\n",
    "A further ```plot_training_history``` helper function is given in case you need to check the training history.\n"
   ]
  },
  {
   "cell_type": "code",
   "execution_count": 168,
   "metadata": {},
   "outputs": [],
   "source": [
    "# Store model\n",
    "def store_keras_model(model, model_name):\n",
    "    model_json = model.to_json() # serialize model to JSON\n",
    "    with open(\"./models/{}.json\".format(model_name), \"w\") as json_file:\n",
    "        json_file.write(model_json)\n",
    "    model.save_weights(\"./models/{}.h5\".format(model_name)) # serialize weights to HDF5\n",
    "    print(\"Saved model to disk\")\n",
    "    \n",
    "# Plot history\n",
    "def plot_training_history(history):\n",
    "    loss = history.history['loss']\n",
    "    val_loss = history.history['val_loss']\n",
    "    epochs = range(1,len(loss)+1)\n",
    "\n",
    "    plt.figure()\n",
    "    plt.plot(epochs, loss, 'bo', label='Training loss')\n",
    "    plt.plot(epochs, val_loss, 'b', label='Validation loss')\n",
    "    plt.title('Training and validation loss')\n",
    "    plt.xlabel('epoch')\n",
    "    plt.legend()\n",
    "    plt.show()"
   ]
  },
  {
   "cell_type": "code",
   "execution_count": 169,
   "metadata": {},
   "outputs": [],
   "source": [
    "# Load model \n",
    "def load_keras_model(model_name):\n",
    "    # Load json and create model\n",
    "    json_file = open('./models/{}.json'.format(model_name), 'r')\n",
    "    loaded_model_json = json_file.read()\n",
    "    json_file.close()\n",
    "    model = tf.keras.models.model_from_json(loaded_model_json)\n",
    "    # Load weights into new model\n",
    "    model.load_weights(\"./models/{}.h5\".format(model_name))\n",
    "    return model"
   ]
  },
  {
   "cell_type": "markdown",
   "metadata": {},
   "source": [
    "<div class='exercise'><b>Question 2: Models [40 points total]</b></div>\n",
    "\n",
    "**2.1** **Model 1: Baseline Model**\n",
    "\n",
    "Predict the tag of a word simply with the most frequently-seen named entity tag of this word from the training set.\n",
    "\n",
    "e.g. word \"Apple\" appears 10 times in the training set; 7 times it was tagged as \"Corporate\" and 3 times it was tagged as \"Fruit\". If we encounter the word \"Apple\" in the test set, we predict it as \"Corporate\".\n",
    "\n",
    "**Create an np.array ```baseline``` of length [n_words]**\n",
    "where the ith element   ```baseline[i]``` is the index of the most commonly seen named entity tag of word i summarised from training set.   (e.g. [16, 16, 16, ..., 0, 16, 16])\n",
    "\n",
    "\n",
    "**2.2** **Model 2: Vanilla Feed Forward Neural Network**\n",
    "\n",
    "This model is provided for you. Please pay attention to the architecture of this neural network, especially the input/output dimensionalities and the Embedding layer.\n",
    "\n",
    "\n",
    "**2.2a** Explain what the embedding layer is and why we need it here.\n",
    "\n",
    "**2.2b** Explain why the Param # of Embedding layer is 1758950 (as shown in `print(model.summary())`).\n",
    "\n",
    "**2.3** **Model 3: RNN**\n",
    "\n",
    "Set up a simple RNN model by stacking the following layers in sequence:\n",
    "\n",
    "    an input layer\n",
    "    a simple Embedding layer transforming integer words into vectors\n",
    "    a dropout layer to regularize the model\n",
    "    a SimpleRNN layer\n",
    "    a TimeDistributed layer with an inner Dense layer which output dimensionality is equal to n_tag\n",
    "    \n",
    "*(For hyperparameters, use those provided in Model 2)*\n",
    "\n",
    "**2.3a** Define, compile, and train an RNN model. Use the provided code to save the model and plot the training history.\n",
    "\n",
    "**2.3b** Visualize outputs from the SimpleRNN layer, one subplot for B-tags and one subplot for I-tags. Comment on the patterns you observed.\n",
    "\n",
    "**2.4** **Model 4: GRU**\n",
    "\n",
    "**2.4a** Briefly explain what a GRU is and how it's different from a simple RNN.\n",
    "\n",
    "**2.4b** Define, compile, and train a GRU architecture by replacing the SimpleRNN cell with a GRU one. Use the provided code to save the model and plot the training history.\n",
    "\n",
    "**2.4c** Visualize outputs from GRU layer, one subplot for **B-tags** and one subplot for **I-tags**. Comment on the patterns you observed.\n",
    "\n",
    "**2.5** **Model 5: Bidirectional GRU**\n",
    "\n",
    "**2.5a** Explain how a Bidirectional GRU differs from GRU model above.\n",
    "\n",
    "**2.5b** Define, compile, and train a bidirectional GRU by wrapping your GRU layer in a Bidirectional one. Use the provided code to save the model and plot the training history.\n",
    "\n",
    "**2.5c** Visualize outputs from bidirectional GRU layer, one subplot for **B-tags** and one subplot for **I-tags**. Comment on the patterns you observed."
   ]
  },
  {
   "cell_type": "markdown",
   "metadata": {
    "colab_type": "text",
    "id": "hBtmANNuuS6h"
   },
   "source": [
    "## Answers"
   ]
  },
  {
   "cell_type": "markdown",
   "metadata": {},
   "source": [
    "**2.1** **Model 1: Baseline Model**\n",
    "\n",
    "Predict the tag of a word simply with the most frequently-seen named entity tag of this word from the training set.\n",
    "\n",
    "e.g. word \"Apple\" appears 10 times in the training set; 7 times it was tagged as \"Corporate\" and 3 times it was tagged as \"Fruit\". If we encounter the word \"Apple\" in the test set, we predict it as \"Corporate\".\n",
    "\n",
    "**Create an np.array ```baseline``` of length [n_words]**\n",
    "where the ith element   ```baseline[i]``` is the index of the most commonly seen named entity tag of word i summarised from training set.   (e.g. [16, 16, 16, ..., 0, 16, 16])\n"
   ]
  },
  {
   "cell_type": "code",
   "execution_count": 271,
   "metadata": {},
   "outputs": [],
   "source": [
    "# your code here\n",
    "\n",
    "from collections import Counter\n",
    "baseline =                                                                                \\\n",
    "    data[['Word', 'Tag']]                                                                 \\\n",
    "        .groupby(['Word'])                                                                \\\n",
    "        .apply(lambda x: Counter([r for r in x['Tag'].to_numpy()]).most_common(1)[0][0])  \\\n",
    "        .reindex()"
   ]
  },
  {
   "cell_type": "code",
   "execution_count": 275,
   "metadata": {},
   "outputs": [
    {
     "name": "stdout",
     "output_type": "stream",
     "text": [
      "(47959, 104) \n",
      "\n",
      "Sentence:\n",
      " ['Thousands', 'of', 'demonstrators', 'have', 'marched', 'through', 'London', 'to', 'protest', 'the', 'war', 'in', 'Iraq', 'and', 'demand', 'the', 'withdrawal', 'of', 'British', 'troops', 'from', 'that', 'country', '.', 'PAD', 'PAD', 'PAD', 'PAD', 'PAD', 'PAD', 'PAD', 'PAD', 'PAD', 'PAD', 'PAD', 'PAD', 'PAD', 'PAD', 'PAD', 'PAD', 'PAD', 'PAD', 'PAD', 'PAD', 'PAD', 'PAD', 'PAD', 'PAD', 'PAD', 'PAD', 'PAD', 'PAD', 'PAD', 'PAD', 'PAD', 'PAD', 'PAD', 'PAD', 'PAD', 'PAD', 'PAD', 'PAD', 'PAD', 'PAD', 'PAD', 'PAD', 'PAD', 'PAD', 'PAD', 'PAD', 'PAD', 'PAD', 'PAD', 'PAD', 'PAD', 'PAD', 'PAD', 'PAD', 'PAD', 'PAD', 'PAD', 'PAD', 'PAD', 'PAD', 'PAD', 'PAD', 'PAD', 'PAD', 'PAD', 'PAD', 'PAD', 'PAD', 'PAD', 'PAD', 'PAD', 'PAD', 'PAD', 'PAD', 'PAD', 'PAD', 'PAD', 'PAD', 'PAD', 'PAD']\n",
      "\n"
     ]
    }
   ],
   "source": [
    "# Run this cell to show your results #\n",
    "print(baseline[X].shape,'\\n')\n",
    "print('Sentence:\\n {}\\n'.format([idx2word[w] for w in X[0]]))\n",
    "# print('Predicted Tags:\\n {}'.format([idx2tag[i] for i in baseline[X[0]]]))"
   ]
  },
  {
   "cell_type": "markdown",
   "metadata": {},
   "source": [
    "**2.2** **Model 2: Vanilla Feed Forward Neural Network**\n",
    "\n",
    "This model is provided for you. Please pay attention to the architecture of this neural network, especially the input/output dimensionalities and the Embedding layer.\n"
   ]
  },
  {
   "cell_type": "markdown",
   "metadata": {},
   "source": [
    "### Use these hyperparameters for all NN models"
   ]
  },
  {
   "cell_type": "code",
   "execution_count": 276,
   "metadata": {},
   "outputs": [],
   "source": [
    "n_units = 100\n",
    "drop_rate = .1\n",
    "dim_embed = 50\n",
    "\n",
    "optimizer = \"rmsprop\"\n",
    "loss = \"categorical_crossentropy\"\n",
    "metrics = [\"accuracy\"]\n",
    "\n",
    "batch_size = 32\n",
    "epochs = 10\n",
    "validation_split = 0.1\n",
    "verbose = 1"
   ]
  },
  {
   "cell_type": "code",
   "execution_count": 277,
   "metadata": {},
   "outputs": [],
   "source": [
    "# Define model\n",
    "model = tf.keras.Sequential()\n",
    "model.add(tf.keras.layers.Embedding(input_dim=n_words, output_dim=dim_embed, input_length=max_len))\n",
    "model.add(tf.keras.layers.Dropout(drop_rate))\n",
    "model.add(tf.keras.layers.Dense(n_tags, activation=\"softmax\"))\n",
    "\n",
    "# Compile model\n",
    "model.compile(optimizer=optimizer, loss=loss, metrics=metrics)"
   ]
  },
  {
   "cell_type": "code",
   "execution_count": 278,
   "metadata": {},
   "outputs": [
    {
     "name": "stdout",
     "output_type": "stream",
     "text": [
      "Model: \"sequential\"\n",
      "_________________________________________________________________\n",
      "Layer (type)                 Output Shape              Param #   \n",
      "=================================================================\n",
      "embedding (Embedding)        (None, 104, 50)           1758950   \n",
      "_________________________________________________________________\n",
      "dropout (Dropout)            (None, 104, 50)           0         \n",
      "_________________________________________________________________\n",
      "dense (Dense)                (None, 104, 18)           918       \n",
      "=================================================================\n",
      "Total params: 1,759,868\n",
      "Trainable params: 1,759,868\n",
      "Non-trainable params: 0\n",
      "_________________________________________________________________\n",
      "None\n"
     ]
    }
   ],
   "source": [
    "print(model.summary())"
   ]
  },
  {
   "cell_type": "code",
   "execution_count": 279,
   "metadata": {
    "scrolled": true
   },
   "outputs": [
    {
     "name": "stdout",
     "output_type": "stream",
     "text": [
      "Train on 38846 samples, validate on 4317 samples\n",
      "Epoch 1/10\n",
      "38846/38846 [==============================] - 40s 1ms/sample - loss: 0.3143 - accuracy: 0.9782 - val_loss: 0.0622 - val_accuracy: 0.9851\n",
      "Epoch 2/10\n",
      "38846/38846 [==============================] - 40s 1ms/sample - loss: 0.0512 - accuracy: 0.9864 - val_loss: 0.0501 - val_accuracy: 0.9860\n",
      "Epoch 3/10\n",
      "38846/38846 [==============================] - 40s 1ms/sample - loss: 0.0449 - accuracy: 0.9873 - val_loss: 0.0474 - val_accuracy: 0.9867\n",
      "Epoch 4/10\n",
      "38846/38846 [==============================] - 41s 1ms/sample - loss: 0.0427 - accuracy: 0.9878 - val_loss: 0.0459 - val_accuracy: 0.9870\n",
      "Epoch 5/10\n",
      "38846/38846 [==============================] - 41s 1ms/sample - loss: 0.0413 - accuracy: 0.9881 - val_loss: 0.0451 - val_accuracy: 0.9873\n",
      "Epoch 6/10\n",
      "38846/38846 [==============================] - 40s 1ms/sample - loss: 0.0404 - accuracy: 0.9884 - val_loss: 0.0447 - val_accuracy: 0.9875\n",
      "Epoch 7/10\n",
      "38846/38846 [==============================] - 41s 1ms/sample - loss: 0.0398 - accuracy: 0.9886 - val_loss: 0.0443 - val_accuracy: 0.9876\n",
      "Epoch 8/10\n",
      "38846/38846 [==============================] - 41s 1ms/sample - loss: 0.0394 - accuracy: 0.9888 - val_loss: 0.0441 - val_accuracy: 0.9877\n",
      "Epoch 9/10\n",
      "38846/38846 [==============================] - 41s 1ms/sample - loss: 0.0391 - accuracy: 0.9889 - val_loss: 0.0438 - val_accuracy: 0.9878\n",
      "Epoch 10/10\n",
      "38846/38846 [==============================] - 41s 1ms/sample - loss: 0.0388 - accuracy: 0.9890 - val_loss: 0.0437 - val_accuracy: 0.9878\n"
     ]
    }
   ],
   "source": [
    "# Train model\n",
    "history = model.fit(X_train, y_train, batch_size=batch_size, epochs=epochs, \n",
    "                    validation_split=validation_split, verbose=verbose)"
   ]
  },
  {
   "cell_type": "code",
   "execution_count": 280,
   "metadata": {},
   "outputs": [
    {
     "name": "stdout",
     "output_type": "stream",
     "text": [
      "Saved model to disk\n"
     ]
    }
   ],
   "source": [
    "store_keras_model(model, 'model_FFNN')"
   ]
  },
  {
   "cell_type": "code",
   "execution_count": 281,
   "metadata": {},
   "outputs": [
    {
     "data": {
      "image/png": "[encoded data removed]",
      "text/plain": [
       "<Figure size 432x288 with 1 Axes>"
      ]
     },
     "metadata": {},
     "output_type": "display_data"
    }
   ],
   "source": [
    "plot_training_history(history)"
   ]
  },
  {
   "cell_type": "markdown",
   "metadata": {},
   "source": [
    "**2.2a** Explain what the embedding layer is and why we need it here."
   ]
  },
  {
   "cell_type": "markdown",
   "metadata": {},
   "source": [
    "*your answer here*\n",
    "\n",
    "embedding layer essentially maps our word vector (1-dimension) to a continuous multi-dimension (in our case 50) vector, so that the latter can reflect the simiilarity of words in our corpus."
   ]
  },
  {
   "cell_type": "code",
   "execution_count": 286,
   "metadata": {},
   "outputs": [
    {
     "data": {
      "text/plain": [
       "35179"
      ]
     },
     "execution_count": 286,
     "metadata": {},
     "output_type": "execute_result"
    }
   ],
   "source": [
    "n_words * "
   ]
  },
  {
   "cell_type": "markdown",
   "metadata": {},
   "source": [
    "**2.2b** Explain why the Param # of Embedding layer is 1758950 (as shown in `print(model.summary())`)."
   ]
  },
  {
   "cell_type": "markdown",
   "metadata": {},
   "source": [
    "*your answer here*\n",
    "\n",
    "\n",
    "50 * 43163"
   ]
  },
  {
   "cell_type": "markdown",
   "metadata": {},
   "source": [
    "### Viewing Hidden Layers\n",
    "In addition to the final result, we also want to see the intermediate results from hidden layers. Below is an example showing how to get outputs from a hidden layer, and visualize them on the reduced dimension of 2D by PCA. (**Please note that this code and the parameters cannot be simply copied and pasted for other questions; some adjustments need to be made**) "
   ]
  },
  {
   "cell_type": "code",
   "execution_count": null,
   "metadata": {},
   "outputs": [],
   "source": [
    "FFNN = load_keras_model(\"model_FFNN\")\n",
    "def create_truncated_model_FFNN(trained_model):\n",
    "    model = tf.keras.Sequential()\n",
    "    model.add(tf.keras.layers.Embedding(input_dim=n_words, output_dim=dim_embed, input_length=max_len))\n",
    "    model.add(tf.keras.layers.Dropout(drop_rate))\n",
    "    # set weights of first few layers using the weights of trained model\n",
    "    for i, layer in enumerate(model.layers):\n",
    "        layer.set_weights(trained_model.layers[i].get_weights())\n",
    "    model.compile(optimizer=optimizer, loss=loss, metrics=metrics)\n",
    "    return model\n",
    "truncated_model = create_truncated_model_FFNN(FFNN)\n",
    "hidden_features = truncated_model.predict(X_te)\n",
    "\n",
    "# flatten data\n",
    "hidden_features = hidden_features.reshape(-1,50)\n",
    " \n",
    "# find first two PCA components\n",
    "pca = PCA(n_components=2)\n",
    "pca_result = pca.fit_transform(hidden_features)\n",
    "print('Variance explained by PCA: {}'.format(np.sum(pca.explained_variance_ratio_)))"
   ]
  },
  {
   "cell_type": "code",
   "execution_count": null,
   "metadata": {},
   "outputs": [],
   "source": [
    "# visualize hidden featurs on first two PCA components\n",
    "# this plot only shows B-tags\n",
    "def visualize_hidden_features(pca_result):\n",
    "    color=['r', 'C1', 'y', 'C3', 'b', 'g', 'm', 'orange']\n",
    "    category = np.argmax(y_te, axis=1)\n",
    "    fig, ax = plt.subplots()\n",
    "    fig.set_size_inches(6,6)    \n",
    "    for cat in range(8):\n",
    "        indices_B = np.where(category==cat)[0]\n",
    "        #length=min(1000,len(indices_B))\n",
    "        #indices_B=indices_B[:length]\n",
    "        ax.scatter(pca_result[indices_B,0], pca_result[indices_B, 1], label=idx2tag[cat],s=2,color=color[cat],alpha=0.5)\n",
    "        legend=ax.legend(markerscale=3)\n",
    "        legend.get_frame().set_facecolor('w')  \n",
    "    plt.show()"
   ]
  },
  {
   "cell_type": "code",
   "execution_count": null,
   "metadata": {},
   "outputs": [],
   "source": [
    "visualize_hidden_features(pca_result)"
   ]
  },
  {
   "cell_type": "markdown",
   "metadata": {},
   "source": [
    "### Full function for other questions ###"
   ]
  },
  {
   "cell_type": "code",
   "execution_count": null,
   "metadata": {},
   "outputs": [],
   "source": [
    "def get_hidden_output_PCA(model,X_te,y_te,layer_index,out_dimension):\n",
    "    output = tf.keras.backend.function([model.layers[0].input],[model.layers[layer_index].output])\n",
    "    hidden_feature=np.array(output([X_te]))\n",
    "    hidden_feature=hidden_feature.reshape(-1,out_dimension)\n",
    "    \n",
    "    pca = PCA(n_components=2)\n",
    "    pca_result = pca.fit_transform(hidden_feature)\n",
    "    print('Variance explained by PCA: {}'.format(np.sum(pca.explained_variance_ratio_)))\n",
    "    return pca_result"
   ]
  },
  {
   "cell_type": "code",
   "execution_count": null,
   "metadata": {},
   "outputs": [],
   "source": [
    "def visualize_B_I(pca_result):\n",
    "    color = ['r', 'C1', 'y', 'C3', 'b', 'g', 'm', 'orange']\n",
    "    category = np.argmax(y_te.reshape(-1,18), axis=1)\n",
    "    fig, ax = plt.subplots(1,2) \n",
    "    fig.set_size_inches(12,6)\n",
    "    for i in range(2):\n",
    "        for cat in range(8*i,8*(i+1)):\n",
    "            indices = np.where(category==cat)[0]\n",
    "            ax[i].scatter(pca_result[indices,0], pca_result[indices, 1], label=idx2tag[cat],s=2,color=color[cat-8*i],alpha=0.5)\n",
    "        legend = ax[i].legend(markerscale=3)\n",
    "        legend.get_frame().set_facecolor('w') \n",
    "        ax[i].set_xlabel(\"first dimension\")\n",
    "        ax[i].set_ylabel(\"second dimension\")\n",
    "    fig.suptitle(\"visualization of hidden feature on reduced dimension by PCA\")\n",
    "    \n",
    "    plt.show()"
   ]
  },
  {
   "cell_type": "code",
   "execution_count": null,
   "metadata": {},
   "outputs": [],
   "source": [
    "h = get_hidden_output_PCA(FFNN,X_te,y_te,1,50)\n",
    "visualize_B_I(h)"
   ]
  },
  {
   "cell_type": "markdown",
   "metadata": {},
   "source": [
    "**2.3** **Model 3: RNN**\n",
    "\n",
    "Set up a simple RNN model by stacking the following layers in sequence:\n",
    "\n",
    "    an input layer\n",
    "    a simple Embedding layer transforming integer words into vectors\n",
    "    a dropout layer to regularize the model\n",
    "    a SimpleRNN layer\n",
    "    a TimeDistributed layer with an inner Dense layer which output dimensionality is equal to n_tag\n",
    "    \n",
    "*(For hyperparameters, use those provided in Model 2)*\n",
    "\n",
    "**2.3a** Define, compile, and train an RNN model. Use the provided code to save the model and plot the training history."
   ]
  },
  {
   "cell_type": "code",
   "execution_count": null,
   "metadata": {},
   "outputs": [],
   "source": [
    "# your code here\n"
   ]
  },
  {
   "cell_type": "code",
   "execution_count": null,
   "metadata": {},
   "outputs": [],
   "source": [
    "# save your mode #\n",
    "store_keras_model(model, 'model_RNN')"
   ]
  },
  {
   "cell_type": "code",
   "execution_count": null,
   "metadata": {},
   "outputs": [],
   "source": [
    "# run this cell to show your results #\n",
    "print(model.summary())"
   ]
  },
  {
   "cell_type": "code",
   "execution_count": null,
   "metadata": {},
   "outputs": [],
   "source": [
    "# run this cell to show your results #\n",
    "plot_training_history(history)"
   ]
  },
  {
   "cell_type": "markdown",
   "metadata": {},
   "source": [
    "**2.3b** Visualize outputs from the SimpleRNN layer, one subplot for B-tags and one subplot for I-tags. Comment on the patterns you observed."
   ]
  },
  {
   "cell_type": "code",
   "execution_count": null,
   "metadata": {},
   "outputs": [],
   "source": [
    "# your code here\n"
   ]
  },
  {
   "cell_type": "markdown",
   "metadata": {},
   "source": [
    "<div class='explication'> </div>"
   ]
  },
  {
   "cell_type": "markdown",
   "metadata": {},
   "source": [
    "**2.4** **Model 4: GRU**\n",
    "\n",
    "**2.4a** Briefly explain what a GRU is and how it's different from a simple RNN."
   ]
  },
  {
   "cell_type": "markdown",
   "metadata": {},
   "source": [
    "*your answer here*\n"
   ]
  },
  {
   "cell_type": "markdown",
   "metadata": {},
   "source": [
    "**2.4b** Define, compile, and train a GRU architecture by replacing the SimpleRNN cell with a GRU one. Use the provided code to save the model and plot the training history."
   ]
  },
  {
   "cell_type": "code",
   "execution_count": null,
   "metadata": {},
   "outputs": [],
   "source": [
    "# your code here\n"
   ]
  },
  {
   "cell_type": "code",
   "execution_count": null,
   "metadata": {},
   "outputs": [],
   "source": [
    "# save your model #\n",
    "store_keras_model(model, 'model_GRU')"
   ]
  },
  {
   "cell_type": "code",
   "execution_count": null,
   "metadata": {},
   "outputs": [],
   "source": [
    "# run this cell to show your results #\n",
    "print(model.summary())"
   ]
  },
  {
   "cell_type": "code",
   "execution_count": null,
   "metadata": {},
   "outputs": [],
   "source": [
    "# run this cell to show your results #\n",
    "plot_training_history(history)"
   ]
  },
  {
   "cell_type": "markdown",
   "metadata": {},
   "source": [
    "**2.4c** Visualize outputs from GRU layer, one subplot for **B-tags** and one subplot for **I-tags**. Comment on the patterns you observed."
   ]
  },
  {
   "cell_type": "code",
   "execution_count": null,
   "metadata": {},
   "outputs": [],
   "source": [
    "# your code here\n"
   ]
  },
  {
   "cell_type": "markdown",
   "metadata": {},
   "source": [
    "*your answer here*"
   ]
  },
  {
   "cell_type": "markdown",
   "metadata": {},
   "source": [
    "**2.5** **Model 5: Bidirectional GRU**\n",
    "\n",
    "**2.5a** Explain how a Bidirectional GRU differs from GRU model above.\n",
    "\n"
   ]
  },
  {
   "cell_type": "markdown",
   "metadata": {},
   "source": [
    "*your answer here*"
   ]
  },
  {
   "cell_type": "markdown",
   "metadata": {},
   "source": [
    "**2.5b** Define, compile, and train a bidirectional GRU by wrapping your GRU layer in a Bidirectional one. Use the provided code to save the model and plot the training history.\n"
   ]
  },
  {
   "cell_type": "code",
   "execution_count": null,
   "metadata": {},
   "outputs": [],
   "source": [
    "# your code here\n"
   ]
  },
  {
   "cell_type": "code",
   "execution_count": null,
   "metadata": {},
   "outputs": [],
   "source": [
    "# save your model #\n",
    "store_keras_model(model, 'model_BiGRU')"
   ]
  },
  {
   "cell_type": "code",
   "execution_count": null,
   "metadata": {},
   "outputs": [],
   "source": [
    "# run this cell to show your results #\n",
    "print(model.summary())"
   ]
  },
  {
   "cell_type": "code",
   "execution_count": null,
   "metadata": {},
   "outputs": [],
   "source": [
    "# run this cell to show your results #\n",
    "plot_training_history(history)"
   ]
  },
  {
   "cell_type": "markdown",
   "metadata": {},
   "source": [
    "**2.5c** Visualize outputs from bidirectional GRU layer, one subplot for **B-tags** and one subplot for **I-tags**. Comment on the patterns you observed."
   ]
  },
  {
   "cell_type": "code",
   "execution_count": null,
   "metadata": {},
   "outputs": [],
   "source": [
    "# your code here\n"
   ]
  },
  {
   "cell_type": "markdown",
   "metadata": {},
   "source": [
    "*your answer here*"
   ]
  },
  {
   "cell_type": "markdown",
   "metadata": {},
   "source": [
    "<div class='exercise'><b> Question 3: Analysis [40pt]</b></div>\n"
   ]
  },
  {
   "cell_type": "markdown",
   "metadata": {},
   "source": [
    "**3.1** For each model, iteratively:\n",
    "\n",
    "- Load the model using the given function ```load_keras_model```\n",
    "\n",
    "- Apply the model to the test dataset\n",
    "\n",
    "- Compute an F1 score for each ```Tag``` and store it \n",
    "\n",
    "**3.2** Plot the F1 score per Tag and per model making use of a grouped barplot.\n",
    "\n",
    "**3.3** Briefly discuss the performance of each model\n",
    "\n",
    "\n",
    "**3.4** Which tags have the lowest f1 score? For instance, you may find from the plot above that the test accuracy on \"B-art\", and \"I-art\" are very low (just an example, your case maybe different). Here is an example when models failed to predict these tags right\n",
    "\n",
    "<img src=\"data/B_art.png\" alt=\"drawing\" width=\"600\"/>\n",
    "\n",
    "**3.5** Write functions to output another example in which the tags of the lowest accuracy was predicted wrong in a sentence (include both \"B-xxx\" and \"I-xxx\" tags). Store the results in a DataFrame (same format as the above example) and use styling functions below to print out your df.\n",
    "\n",
    "**3.6** Choose one of the most promising models you have built, improve this model to achieve an f1 score higher than 0.8 for as many tags as possible (you have lots of options here, e.g. data balancing, hyperparameter tuning, changing the structure of NN, a different optimizer, etc.)\n",
    "\n",
    "**3.7** Explain why you chose to change certain elements of the model and how effective these adjustments were.\n"
   ]
  },
  {
   "cell_type": "markdown",
   "metadata": {
    "colab_type": "text",
    "id": "hBtmANNuuS6h"
   },
   "source": [
    "## Answers"
   ]
  },
  {
   "cell_type": "markdown",
   "metadata": {},
   "source": [
    "**3.1** For each model, iteratively:\n",
    "\n",
    "- Load the model using the given function ```load_keras_model```\n",
    "\n",
    "- Apply the model to the test dataset\n",
    "\n",
    "- Compute an F1 score for each ```Tag``` and store it "
   ]
  },
  {
   "cell_type": "code",
   "execution_count": null,
   "metadata": {},
   "outputs": [],
   "source": [
    "# your code here\n"
   ]
  },
  {
   "cell_type": "markdown",
   "metadata": {},
   "source": [
    "**3.2** Plot the F1 score per Tag and per model making use of a grouped barplot."
   ]
  },
  {
   "cell_type": "code",
   "execution_count": null,
   "metadata": {},
   "outputs": [],
   "source": [
    "# your code here\n"
   ]
  },
  {
   "cell_type": "markdown",
   "metadata": {},
   "source": [
    "**3.3** Briefly discuss the performance of each model"
   ]
  },
  {
   "cell_type": "markdown",
   "metadata": {},
   "source": [
    "*your answer here*\n"
   ]
  },
  {
   "cell_type": "markdown",
   "metadata": {},
   "source": [
    "**3.4** Which tags have the lowest f1 score? For instance, you may find from the plot above that the test accuracy on \"B-art\", and \"I-art\" are very low (just an example, your case maybe different). Here is an example when models failed to predict these tags right\n",
    "\n",
    "<img src=\"data/B_art.png\" alt=\"drawing\" width=\"600\"/>"
   ]
  },
  {
   "cell_type": "markdown",
   "metadata": {},
   "source": [
    "*your answer here*\n"
   ]
  },
  {
   "cell_type": "markdown",
   "metadata": {},
   "source": [
    "**3.5** Write functions to output another example in which the tags of the lowest accuracy was predicted wrong in a sentence (include both \"B-xxx\" and \"I-xxx\" tags). Store the results in a DataFrame (same format as the above example) and use styling functions below to print out your df."
   ]
  },
  {
   "cell_type": "code",
   "execution_count": null,
   "metadata": {},
   "outputs": [],
   "source": [
    "def highlight_errors(s):\n",
    "    is_max = s == s.y_true\n",
    "    return ['' if v or key=='Word' else 'color: red' for key,v in is_max.iteritems()]"
   ]
  },
  {
   "cell_type": "code",
   "execution_count": null,
   "metadata": {},
   "outputs": [],
   "source": [
    "# your code here\n"
   ]
  },
  {
   "cell_type": "code",
   "execution_count": null,
   "metadata": {},
   "outputs": [],
   "source": [
    "# your code here\n"
   ]
  },
  {
   "cell_type": "code",
   "execution_count": null,
   "metadata": {},
   "outputs": [],
   "source": [
    "# your code here\n"
   ]
  },
  {
   "cell_type": "markdown",
   "metadata": {},
   "source": [
    "**3.6** Choose one of the most promising models you have built, improve this model to achieve an f1 score higher than 0.8 for as many tags as possible (you have lots of options here, e.g. data balancing, hyperparameter tuning, changing the structure of NN, a different optimizer, etc.)"
   ]
  },
  {
   "cell_type": "code",
   "execution_count": null,
   "metadata": {},
   "outputs": [],
   "source": [
    "# your code here\n"
   ]
  },
  {
   "cell_type": "markdown",
   "metadata": {},
   "source": [
    "**3.7** Explain why you chose to change certain elements of the model and how effective these adjustments were."
   ]
  },
  {
   "cell_type": "markdown",
   "metadata": {},
   "source": [
    "*your answer here*"
   ]
  },
  {
   "cell_type": "code",
   "execution_count": null,
   "metadata": {},
   "outputs": [],
   "source": []
  }
 ],
 "metadata": {
  "kernelspec": {
   "display_name": "Python 3",
   "language": "python",
   "name": "python3"
  },
  "language_info": {
   "codemirror_mode": {
    "name": "ipython",
    "version": 3
   },
   "file_extension": ".py",
   "mimetype": "text/x-python",
   "name": "python",
   "nbconvert_exporter": "python",
   "pygments_lexer": "ipython3",
   "version": "3.7.6"
  }
 },
 "nbformat": 4,
 "nbformat_minor": 4
}
