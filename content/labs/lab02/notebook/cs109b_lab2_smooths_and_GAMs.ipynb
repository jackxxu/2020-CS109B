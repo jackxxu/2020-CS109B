{
 "cells": [
  {
   "cell_type": "markdown",
   "metadata": {},
   "source": [
    "# <img style=\"float: left; padding-right: 10px; width: 45px\" src=\"https://raw.githubusercontent.com/Harvard-IACS/2018-CS109A/master/content/styles/iacs.png\"> CS109B Data Science 2: Advanced Topics in Data Science \n",
    "## Lab 2 - Smoothers and Generalized Additive Models - Model Fitting\n",
    "\n",
    "<div class=\"discussion\"><b>Spring 2020</b></div>\n",
    "\n",
    "**Harvard University**<br>\n",
    "**Spring 2020**<br>\n",
    "**Instructors:** Mark Glickman, Pavlos Protopapas, and Chris Tanner<br>\n",
    "**Lab Instructors:** Chris Tanner and Eleni Kaxiras<br>\n",
    "**Content:** Eleni Kaxiras and Will Claybaugh\n",
    "\n",
    "---"
   ]
  },
  {
   "cell_type": "code",
   "execution_count": 3,
   "metadata": {},
   "outputs": [
    {
     "data": {
      "text/html": [
       "<style>\n",
       "blockquote { background: #AEDE94; }\n",
       "h1 { \n",
       "    padding-top: 25px;\n",
       "    padding-bottom: 25px;\n",
       "    text-align: left; \n",
       "    padding-left: 10px;\n",
       "    background-color: #DDDDDD; \n",
       "    color: black;\n",
       "}\n",
       "h2 { \n",
       "    padding-top: 10px;\n",
       "    padding-bottom: 10px;\n",
       "    text-align: left; \n",
       "    padding-left: 5px;\n",
       "    background-color: #EEEEEE; \n",
       "    color: black;\n",
       "}\n",
       "\n",
       "div.exercise {\n",
       "\tbackground-color: #ffcccc;\n",
       "\tborder-color: #E9967A; \t\n",
       "\tborder-left: 5px solid #800080; \n",
       "\tpadding: 0.5em;\n",
       "}\n",
       "div.discussion {\n",
       "\tbackground-color: #ccffcc;\n",
       "\tborder-color: #88E97A;\n",
       "\tborder-left: 5px solid #0A8000; \n",
       "\tpadding: 0.5em;\n",
       "}\n",
       "div.theme {\n",
       "\tbackground-color: #DDDDDD;\n",
       "\tborder-color: #E9967A; \t\n",
       "\tborder-left: 5px solid #800080; \n",
       "\tpadding: 0.5em;\n",
       "\tfont-size: 18pt;\n",
       "}\n",
       "div.gc { \n",
       "\tbackground-color: #AEDE94;\n",
       "\tborder-color: #E9967A; \t \n",
       "\tborder-left: 5px solid #800080; \n",
       "\tpadding: 0.5em;\n",
       "\tfont-size: 12pt;\n",
       "}\n",
       "p.q1 { \n",
       "    padding-top: 5px;\n",
       "    padding-bottom: 5px;\n",
       "    text-align: left; \n",
       "    padding-left: 5px;\n",
       "    background-color: #EEEEEE; \n",
       "    color: black;\n",
       "}\n",
       "header {\n",
       "   padding-top: 35px;\n",
       "    padding-bottom: 35px;\n",
       "    text-align: left; \n",
       "    padding-left: 10px;\n",
       "    background-color: #DDDDDD; \n",
       "    color: black;\n",
       "}\n",
       "</style>\n",
       "\n"
      ],
      "text/plain": [
       "<IPython.core.display.HTML object>"
      ]
     },
     "execution_count": 3,
     "metadata": {},
     "output_type": "execute_result"
    }
   ],
   "source": [
    "## RUN THIS CELL TO PROPERLY HIGHLIGHT THE EXERCISES\n",
    "import requests\n",
    "from IPython.core.display import HTML\n",
    "styles = requests.get(\"https://raw.githubusercontent.com/Harvard-IACS/2019-CS109B/master/content/styles/cs109.css\").text\n",
    "HTML(styles)"
   ]
  },
  {
   "cell_type": "code",
   "execution_count": 4,
   "metadata": {},
   "outputs": [],
   "source": [
    "import numpy as np\n",
    "from scipy.interpolate import interp1d\n",
    "import matplotlib.pyplot as plt\n",
    "import pandas as pd\n",
    "\n",
    "%matplotlib inline "
   ]
  },
  {
   "cell_type": "markdown",
   "metadata": {},
   "source": [
    "## Learning Goals\n",
    "\n",
    "By the end of this lab, you should be able to:\n",
    "* Understand how to implement GAMs with the Python package `pyGAM`\n",
    "* Learn about the practical aspects of Splines and how to use them.\n",
    "\n",
    "**This lab corresponds to lectures 1, 2, and 3 and maps to homework 1.**"
   ]
  },
  {
   "cell_type": "markdown",
   "metadata": {},
   "source": [
    "## Table of Contents\n",
    "\n",
    "* 1 - Overview - A Top View of LMs, GLMs, and GAMs to set the stage\n",
    "* 2 - A review of Linear Regression with `statsmodels`. What are those weird formulas?\n",
    "* 3 - Splines\n",
    "* 4 - Generative Additive Models with pyGAM\n",
    "* 5 - Smooting Splines using pyGAM"
   ]
  },
  {
   "cell_type": "markdown",
   "metadata": {},
   "source": [
    "## Overview\n",
    "\n",
    "Linear Models (LM), Generalized Linear Models (GLMs), Generalized Additive Models (GAMs), Splines, Natural Splines, Smoothing Splines! So many definitions. Let's try and work through an example for each of them so we can better understand them. \n",
    "\n",
    "![](../images/GAM_venn.png)\n",
    "*image source: Dani Servén Marín (one of the developers of pyGAM)*"
   ]
  },
  {
   "cell_type": "markdown",
   "metadata": {},
   "source": [
    "### A - Linear Models\n",
    "\n",
    "First we have the **Linear Models** which you know from 109a. These models are linear in the coefficients. Very *interpretable* but suffer from high bias because let's face it, few relationships in life are linear. Simple Linear Regression (defined as a model with one predictor) as well as Multiple Linear Regression (more than one predictors) are examples of LMs. Polynomial Regression extends the linear model by adding terms that are still linear for the coefficients but non-linear when it somes to the predictiors which are now raised in a power or multiplied between them.\n",
    "\n",
    "![](../images/linear.png)\n",
    "\n",
    "$$\n",
    "\\begin{aligned}\n",
    "y = \\beta{_0} + \\beta{_1}{x_1} &  \\mbox{(simple linear regression)}\\\\\n",
    "y = \\beta{_0} + \\beta{_1}{x_1} + \\beta{_2}{x_2} + \\beta{_3}{x_3} &  \\mbox{(multiple linear regression)}\\\\\n",
    "y = \\beta{_0} + \\beta{_1}{x_1} + \\beta{_2}{x_1^2} + \\beta{_3}{x_3^3} &  \\mbox{(polynomial regression)}\\\\\n",
    "\\end{aligned}\n",
    "$$"
   ]
  },
  {
   "cell_type": "markdown",
   "metadata": {},
   "source": [
    "<div class=\"discussion\"><b>Discussion</b></div>\n",
    "\n",
    " - What does it mean for a model to be **interpretable**?\n",
    " - Are linear regression models interpretable? Are random forests? What about Neural Networks such as FFNs and CNNs? \n",
    " - Do we always want interpretability? Describe cases where we do and cases where we do not care. \n"
   ]
  },
  {
   "cell_type": "markdown",
   "metadata": {},
   "source": [
    "### B - Generalized Linear Models (GLMs)\n",
    "\n",
    "![](../images/GLM.png)\n",
    "\n",
    "$$\n",
    "\\begin{aligned}\n",
    "y = \\beta{_0} + \\beta{_1}{x_1} + \\beta{_2}{x_2} + \\beta{_3}{x_3}\n",
    "\\end{aligned}\n",
    "$$\n",
    "\n",
    "\n",
    "**Generalized Linear Models** is a term coined in the early 1970s by Nelder and Wedderburn for a class of models that includes both Linear Regression and Logistic Regression. A GLM fits one coefficient per feature (predictor). "
   ]
  },
  {
   "cell_type": "markdown",
   "metadata": {},
   "source": [
    "### C - Generalized Additive Models (GAMs)\n",
    "\n",
    "Hastie and Tidshirani coined the term **Generalized Additive Models** in 1986 for a class of non-linear extensions to Generalized Linear Models.\n",
    "\n",
    "![](../images/GAM.png)\n",
    "\n",
    "$$\n",
    "\\begin{aligned}\n",
    "y = \\beta{_0} + f_1\\left(x_1\\right) + f_2\\left(x_2\\right) + f_3\\left(x_3\\right) \\\\\n",
    "y = \\beta{_0} + f_1\\left(x_1\\right) + f_2\\left(x_2, x_3\\right) + f_3\\left(x_3\\right) &  \\mbox{(with interaction terms)}\n",
    "\\end{aligned}\n",
    "$$\n",
    "\n",
    "In practice we add splines and regularization via smoothing penalties to our GLMs. Decision Trees also fit in this category.\n",
    "\n",
    "*image source: Dani Servén Marín*"
   ]
  },
  {
   "cell_type": "markdown",
   "metadata": {},
   "source": [
    "### D - Basis Functions\n",
    "\n",
    "In our models we can use various types of functions as \"basis\". \n",
    "- Monomials such as $x^2$, $x^4$ (**Polynomial Regression**)\n",
    "- Sigmoid functions (neural networks)\n",
    "- Fourier functions \n",
    "- Wavelets \n",
    "- **Regression splines** which we will look at shortly."
   ]
  },
  {
   "cell_type": "markdown",
   "metadata": {},
   "source": [
    "<div class=\"discussion\"><b>Discussion</b></div>\n",
    "\n",
    " - Where does polynomial regression fit in all this?"
   ]
  },
  {
   "cell_type": "markdown",
   "metadata": {},
   "source": [
    "Answer: GLMs include Polynomial Regression so the graphic above should really include curved lines, not just straight..."
   ]
  },
  {
   "cell_type": "markdown",
   "metadata": {},
   "source": [
    "## Implementation\n",
    "\n",
    "### 1 - Linear/Polynomial Regression\n",
    "\n",
    "We will use the `diabetes` dataset.\n",
    "\n",
    "Variables are:\n",
    "- subject:   subject ID number\n",
    "- age:       age diagnosed with diabetes\n",
    "- acidity:   a measure of acidity called base deficit\n",
    "Response:\n",
    "- y:         natural log of serum C-peptide concentration\n",
    "\n",
    "*Original source is Sockett et al. (1987) mentioned in Hastie and Tibshirani's book \n",
    "\"Generalized Additive Models\".*\n",
    "\n",
    "\n"
   ]
  },
  {
   "cell_type": "markdown",
   "metadata": {},
   "source": [
    "Reading data and (some) exploring in Pandas:"
   ]
  },
  {
   "cell_type": "code",
   "execution_count": 5,
   "metadata": {},
   "outputs": [
    {
     "data": {
      "text/html": [
       "<div>\n",
       "<style scoped>\n",
       "    .dataframe tbody tr th:only-of-type {\n",
       "        vertical-align: middle;\n",
       "    }\n",
       "\n",
       "    .dataframe tbody tr th {\n",
       "        vertical-align: top;\n",
       "    }\n",
       "\n",
       "    .dataframe thead th {\n",
       "        text-align: right;\n",
       "    }\n",
       "</style>\n",
       "<table border=\"1\" class=\"dataframe\">\n",
       "  <thead>\n",
       "    <tr style=\"text-align: right;\">\n",
       "      <th></th>\n",
       "      <th>subject</th>\n",
       "      <th>age</th>\n",
       "      <th>acidity</th>\n",
       "      <th>y</th>\n",
       "    </tr>\n",
       "  </thead>\n",
       "  <tbody>\n",
       "    <tr>\n",
       "      <th>0</th>\n",
       "      <td>1</td>\n",
       "      <td>5.2</td>\n",
       "      <td>-8.1</td>\n",
       "      <td>4.8</td>\n",
       "    </tr>\n",
       "    <tr>\n",
       "      <th>1</th>\n",
       "      <td>2</td>\n",
       "      <td>8.8</td>\n",
       "      <td>-16.1</td>\n",
       "      <td>4.1</td>\n",
       "    </tr>\n",
       "    <tr>\n",
       "      <th>2</th>\n",
       "      <td>3</td>\n",
       "      <td>10.5</td>\n",
       "      <td>-0.9</td>\n",
       "      <td>5.2</td>\n",
       "    </tr>\n",
       "    <tr>\n",
       "      <th>3</th>\n",
       "      <td>4</td>\n",
       "      <td>10.6</td>\n",
       "      <td>-7.8</td>\n",
       "      <td>5.5</td>\n",
       "    </tr>\n",
       "    <tr>\n",
       "      <th>4</th>\n",
       "      <td>5</td>\n",
       "      <td>10.4</td>\n",
       "      <td>-29.0</td>\n",
       "      <td>5.0</td>\n",
       "    </tr>\n",
       "  </tbody>\n",
       "</table>\n",
       "</div>"
      ],
      "text/plain": [
       "   subject   age  acidity    y\n",
       "0        1   5.2     -8.1  4.8\n",
       "1        2   8.8    -16.1  4.1\n",
       "2        3  10.5     -0.9  5.2\n",
       "3        4  10.6     -7.8  5.5\n",
       "4        5  10.4    -29.0  5.0"
      ]
     },
     "execution_count": 5,
     "metadata": {},
     "output_type": "execute_result"
    }
   ],
   "source": [
    "diab = pd.read_csv(\"../data/diabetes.csv\")\n",
    "diab.head()"
   ]
  },
  {
   "cell_type": "code",
   "execution_count": 6,
   "metadata": {},
   "outputs": [
    {
     "data": {
      "text/plain": [
       "subject      int64\n",
       "age        float64\n",
       "acidity    float64\n",
       "y          float64\n",
       "dtype: object"
      ]
     },
     "execution_count": 6,
     "metadata": {},
     "output_type": "execute_result"
    }
   ],
   "source": [
    "diab.dtypes"
   ]
  },
  {
   "cell_type": "code",
   "execution_count": 7,
   "metadata": {
    "scrolled": true
   },
   "outputs": [
    {
     "data": {
      "text/html": [
       "<div>\n",
       "<style scoped>\n",
       "    .dataframe tbody tr th:only-of-type {\n",
       "        vertical-align: middle;\n",
       "    }\n",
       "\n",
       "    .dataframe tbody tr th {\n",
       "        vertical-align: top;\n",
       "    }\n",
       "\n",
       "    .dataframe thead th {\n",
       "        text-align: right;\n",
       "    }\n",
       "</style>\n",
       "<table border=\"1\" class=\"dataframe\">\n",
       "  <thead>\n",
       "    <tr style=\"text-align: right;\">\n",
       "      <th></th>\n",
       "      <th>subject</th>\n",
       "      <th>age</th>\n",
       "      <th>acidity</th>\n",
       "      <th>y</th>\n",
       "    </tr>\n",
       "  </thead>\n",
       "  <tbody>\n",
       "    <tr>\n",
       "      <th>count</th>\n",
       "      <td>43.000000</td>\n",
       "      <td>43.000000</td>\n",
       "      <td>43.000000</td>\n",
       "      <td>43.000000</td>\n",
       "    </tr>\n",
       "    <tr>\n",
       "      <th>mean</th>\n",
       "      <td>22.000000</td>\n",
       "      <td>9.032558</td>\n",
       "      <td>-8.148837</td>\n",
       "      <td>4.746512</td>\n",
       "    </tr>\n",
       "    <tr>\n",
       "      <th>std</th>\n",
       "      <td>12.556539</td>\n",
       "      <td>4.022539</td>\n",
       "      <td>7.123080</td>\n",
       "      <td>0.720565</td>\n",
       "    </tr>\n",
       "    <tr>\n",
       "      <th>min</th>\n",
       "      <td>1.000000</td>\n",
       "      <td>0.900000</td>\n",
       "      <td>-29.000000</td>\n",
       "      <td>3.000000</td>\n",
       "    </tr>\n",
       "    <tr>\n",
       "      <th>25%</th>\n",
       "      <td>11.500000</td>\n",
       "      <td>5.500000</td>\n",
       "      <td>-12.700000</td>\n",
       "      <td>4.450000</td>\n",
       "    </tr>\n",
       "    <tr>\n",
       "      <th>50%</th>\n",
       "      <td>22.000000</td>\n",
       "      <td>10.400000</td>\n",
       "      <td>-7.800000</td>\n",
       "      <td>4.900000</td>\n",
       "    </tr>\n",
       "    <tr>\n",
       "      <th>75%</th>\n",
       "      <td>32.500000</td>\n",
       "      <td>11.850000</td>\n",
       "      <td>-2.000000</td>\n",
       "      <td>5.100000</td>\n",
       "    </tr>\n",
       "    <tr>\n",
       "      <th>max</th>\n",
       "      <td>43.000000</td>\n",
       "      <td>15.600000</td>\n",
       "      <td>-0.200000</td>\n",
       "      <td>6.600000</td>\n",
       "    </tr>\n",
       "  </tbody>\n",
       "</table>\n",
       "</div>"
      ],
      "text/plain": [
       "         subject        age    acidity          y\n",
       "count  43.000000  43.000000  43.000000  43.000000\n",
       "mean   22.000000   9.032558  -8.148837   4.746512\n",
       "std    12.556539   4.022539   7.123080   0.720565\n",
       "min     1.000000   0.900000 -29.000000   3.000000\n",
       "25%    11.500000   5.500000 -12.700000   4.450000\n",
       "50%    22.000000  10.400000  -7.800000   4.900000\n",
       "75%    32.500000  11.850000  -2.000000   5.100000\n",
       "max    43.000000  15.600000  -0.200000   6.600000"
      ]
     },
     "execution_count": 7,
     "metadata": {},
     "output_type": "execute_result"
    }
   ],
   "source": [
    "diab.describe()"
   ]
  },
  {
   "cell_type": "markdown",
   "metadata": {},
   "source": [
    "Plotting with matplotlib:"
   ]
  },
  {
   "cell_type": "code",
   "execution_count": 8,
   "metadata": {},
   "outputs": [
    {
     "data": {
      "image/png": "[encoded data removed]",
      "text/plain": [
       "<Figure size 432x288 with 1 Axes>"
      ]
     },
     "metadata": {
      "needs_background": "light"
     },
     "output_type": "display_data"
    }
   ],
   "source": [
    "ax0 = diab.plot.scatter(x='age',y='y',c='Red',title=\"Diabetes data\") #plotting direclty from pandas!\n",
    "ax0.set_xlabel(\"Age at Diagnosis\")\n",
    "ax0.set_ylabel(\"Log C-Peptide Concentration\");"
   ]
  },
  {
   "cell_type": "markdown",
   "metadata": {},
   "source": [
    "### Linear/Polynomial regression with statsmodels. \n",
    "\n",
    "As you remember from 109a, we have two tools for Linear Regression:\n",
    "- `statsmodels` [https://www.statsmodels.org/stable/regression.html](https://www.statsmodels.org/stable/regression.html), and \n",
    "- `sklearn`[https://scikit-learn.org/stable/index.html](https://scikit-learn.org/stable/index.html)\n",
    "\n",
    "Previously, we worked from a vector of target values and a design matrix we built ourself (e.g. using `sklearn`'s PolynomialFeatures). `statsmodels` allows users to fit statistical models using R-style **formulas**. They build the target value and design matrix for you. \n",
    "\n",
    "```\n",
    "# our target variable is 'Lottery', while 'Region' is a categorical predictor\n",
    "df = dta.data[['Lottery', 'Literacy', 'Wealth', 'Region']]\n",
    "\n",
    "formula='Lottery ~ Literacy + Wealth + C(Region) + Literacy * Wealth'\n",
    "```\n",
    "\n",
    "For more on these formulas see:\n",
    "\n",
    "- https://www.statsmodels.org/stable/examples/notebooks/generated/formulas.html\n",
    "- https://patsy.readthedocs.io/en/latest/overview.html "
   ]
  },
  {
   "cell_type": "code",
   "execution_count": 9,
   "metadata": {},
   "outputs": [],
   "source": [
    "import statsmodels.formula.api as sm\n",
    "\n",
    "model1 = sm.ols('y ~ age',data=diab)\n",
    "fit1_lm = model1.fit()"
   ]
  },
  {
   "cell_type": "markdown",
   "metadata": {},
   "source": [
    "Let's build a dataframe to predict values on (sometimes this is just the test or validation set). Very useful for making pretty plots of the model predictions - predict for TONS of values, not just whatever's in the training set."
   ]
  },
  {
   "cell_type": "code",
   "execution_count": 10,
   "metadata": {},
   "outputs": [
    {
     "data": {
      "text/html": [
       "<div>\n",
       "<style scoped>\n",
       "    .dataframe tbody tr th:only-of-type {\n",
       "        vertical-align: middle;\n",
       "    }\n",
       "\n",
       "    .dataframe tbody tr th {\n",
       "        vertical-align: top;\n",
       "    }\n",
       "\n",
       "    .dataframe thead th {\n",
       "        text-align: right;\n",
       "    }\n",
       "</style>\n",
       "<table border=\"1\" class=\"dataframe\">\n",
       "  <thead>\n",
       "    <tr style=\"text-align: right;\">\n",
       "      <th></th>\n",
       "      <th>age</th>\n",
       "    </tr>\n",
       "  </thead>\n",
       "  <tbody>\n",
       "    <tr>\n",
       "      <th>0</th>\n",
       "      <td>0.000000</td>\n",
       "    </tr>\n",
       "    <tr>\n",
       "      <th>1</th>\n",
       "      <td>0.161616</td>\n",
       "    </tr>\n",
       "    <tr>\n",
       "      <th>2</th>\n",
       "      <td>0.323232</td>\n",
       "    </tr>\n",
       "    <tr>\n",
       "      <th>3</th>\n",
       "      <td>0.484848</td>\n",
       "    </tr>\n",
       "    <tr>\n",
       "      <th>4</th>\n",
       "      <td>0.646465</td>\n",
       "    </tr>\n",
       "  </tbody>\n",
       "</table>\n",
       "</div>"
      ],
      "text/plain": [
       "        age\n",
       "0  0.000000\n",
       "1  0.161616\n",
       "2  0.323232\n",
       "3  0.484848\n",
       "4  0.646465"
      ]
     },
     "execution_count": 10,
     "metadata": {},
     "output_type": "execute_result"
    }
   ],
   "source": [
    "x_pred = np.linspace(0,16,100)\n",
    "\n",
    "predict_df = pd.DataFrame(data={\"age\":x_pred})\n",
    "predict_df.head()"
   ]
  },
  {
   "cell_type": "markdown",
   "metadata": {},
   "source": [
    "Use `get_prediction(<data>).summary_frame()` to get the model's prediction (and error bars!)"
   ]
  },
  {
   "cell_type": "code",
   "execution_count": 11,
   "metadata": {},
   "outputs": [
    {
     "data": {
      "text/html": [
       "<div>\n",
       "<style scoped>\n",
       "    .dataframe tbody tr th:only-of-type {\n",
       "        vertical-align: middle;\n",
       "    }\n",
       "\n",
       "    .dataframe tbody tr th {\n",
       "        vertical-align: top;\n",
       "    }\n",
       "\n",
       "    .dataframe thead th {\n",
       "        text-align: right;\n",
       "    }\n",
       "</style>\n",
       "<table border=\"1\" class=\"dataframe\">\n",
       "  <thead>\n",
       "    <tr style=\"text-align: right;\">\n",
       "      <th></th>\n",
       "      <th>mean</th>\n",
       "      <th>mean_se</th>\n",
       "      <th>mean_ci_lower</th>\n",
       "      <th>mean_ci_upper</th>\n",
       "      <th>obs_ci_lower</th>\n",
       "      <th>obs_ci_upper</th>\n",
       "    </tr>\n",
       "  </thead>\n",
       "  <tbody>\n",
       "    <tr>\n",
       "      <th>0</th>\n",
       "      <td>3.996031</td>\n",
       "      <td>0.244590</td>\n",
       "      <td>3.502071</td>\n",
       "      <td>4.489991</td>\n",
       "      <td>2.600828</td>\n",
       "      <td>5.391235</td>\n",
       "    </tr>\n",
       "    <tr>\n",
       "      <th>1</th>\n",
       "      <td>4.009459</td>\n",
       "      <td>0.240929</td>\n",
       "      <td>3.522892</td>\n",
       "      <td>4.496026</td>\n",
       "      <td>2.616856</td>\n",
       "      <td>5.402063</td>\n",
       "    </tr>\n",
       "    <tr>\n",
       "      <th>2</th>\n",
       "      <td>4.022887</td>\n",
       "      <td>0.237280</td>\n",
       "      <td>3.543691</td>\n",
       "      <td>4.502084</td>\n",
       "      <td>2.632842</td>\n",
       "      <td>5.412932</td>\n",
       "    </tr>\n",
       "    <tr>\n",
       "      <th>3</th>\n",
       "      <td>4.036315</td>\n",
       "      <td>0.233642</td>\n",
       "      <td>3.564466</td>\n",
       "      <td>4.508165</td>\n",
       "      <td>2.648786</td>\n",
       "      <td>5.423845</td>\n",
       "    </tr>\n",
       "    <tr>\n",
       "      <th>4</th>\n",
       "      <td>4.049743</td>\n",
       "      <td>0.230016</td>\n",
       "      <td>3.585216</td>\n",
       "      <td>4.514270</td>\n",
       "      <td>2.664687</td>\n",
       "      <td>5.434800</td>\n",
       "    </tr>\n",
       "  </tbody>\n",
       "</table>\n",
       "</div>"
      ],
      "text/plain": [
       "       mean   mean_se  mean_ci_lower  mean_ci_upper  obs_ci_lower  \\\n",
       "0  3.996031  0.244590       3.502071       4.489991      2.600828   \n",
       "1  4.009459  0.240929       3.522892       4.496026      2.616856   \n",
       "2  4.022887  0.237280       3.543691       4.502084      2.632842   \n",
       "3  4.036315  0.233642       3.564466       4.508165      2.648786   \n",
       "4  4.049743  0.230016       3.585216       4.514270      2.664687   \n",
       "\n",
       "   obs_ci_upper  \n",
       "0      5.391235  \n",
       "1      5.402063  \n",
       "2      5.412932  \n",
       "3      5.423845  \n",
       "4      5.434800  "
      ]
     },
     "execution_count": 11,
     "metadata": {},
     "output_type": "execute_result"
    }
   ],
   "source": [
    "prediction_output = fit1_lm.get_prediction(predict_df).summary_frame()\n",
    "prediction_output.head()"
   ]
  },
  {
   "cell_type": "markdown",
   "metadata": {},
   "source": [
    "Plot the model and error bars"
   ]
  },
  {
   "cell_type": "code",
   "execution_count": 12,
   "metadata": {
    "scrolled": true
   },
   "outputs": [
    {
     "data": {
      "image/png": "[encoded data removed]",
      "text/plain": [
       "<Figure size 432x288 with 1 Axes>"
      ]
     },
     "metadata": {
      "needs_background": "light"
     },
     "output_type": "display_data"
    }
   ],
   "source": [
    "ax1 = diab.plot.scatter(x='age',y='y',c='Red',title=\"Diabetes data with least-squares linear fit\")\n",
    "ax1.set_xlabel(\"Age at Diagnosis\")\n",
    "ax1.set_ylabel(\"Log C-Peptide Concentration\")\n",
    "\n",
    "ax1.plot(predict_df.age, prediction_output['mean'],color=\"green\")\n",
    "ax1.plot(predict_df.age, prediction_output['mean_ci_lower'], color=\"blue\",linestyle=\"dashed\")\n",
    "ax1.plot(predict_df.age, prediction_output['mean_ci_upper'], color=\"blue\",linestyle=\"dashed\");"
   ]
  },
  {
   "cell_type": "markdown",
   "metadata": {},
   "source": [
    "<div class=\"exercise\"><b>Exercise 1</b></div>\n",
    "\n",
    "- Fit a 3rd degree polynomial model and\n",
    "- plot the model+error bars.\n",
    "\n",
    "You can either take \n",
    "- **Route1**: Build a design df with a column for each of `age`, `age**2`, `age**3`, or \n",
    "- **Route2**: Just edit the formula"
   ]
  },
  {
   "cell_type": "code",
   "execution_count": 13,
   "metadata": {},
   "outputs": [],
   "source": [
    "# your answer here\n"
   ]
  },
  {
   "cell_type": "code",
   "execution_count": 14,
   "metadata": {},
   "outputs": [
    {
     "data": {
      "text/html": [
       "<div>\n",
       "<style scoped>\n",
       "    .dataframe tbody tr th:only-of-type {\n",
       "        vertical-align: middle;\n",
       "    }\n",
       "\n",
       "    .dataframe tbody tr th {\n",
       "        vertical-align: top;\n",
       "    }\n",
       "\n",
       "    .dataframe thead th {\n",
       "        text-align: right;\n",
       "    }\n",
       "</style>\n",
       "<table border=\"1\" class=\"dataframe\">\n",
       "  <thead>\n",
       "    <tr style=\"text-align: right;\">\n",
       "      <th></th>\n",
       "      <th>mean</th>\n",
       "      <th>mean_se</th>\n",
       "      <th>mean_ci_lower</th>\n",
       "      <th>mean_ci_upper</th>\n",
       "      <th>obs_ci_lower</th>\n",
       "      <th>obs_ci_upper</th>\n",
       "    </tr>\n",
       "  </thead>\n",
       "  <tbody>\n",
       "    <tr>\n",
       "      <th>0</th>\n",
       "      <td>2.740481</td>\n",
       "      <td>0.508197</td>\n",
       "      <td>1.712556</td>\n",
       "      <td>3.768406</td>\n",
       "      <td>1.156238</td>\n",
       "      <td>4.324724</td>\n",
       "    </tr>\n",
       "    <tr>\n",
       "      <th>1</th>\n",
       "      <td>2.846265</td>\n",
       "      <td>0.472858</td>\n",
       "      <td>1.889819</td>\n",
       "      <td>3.802710</td>\n",
       "      <td>1.307439</td>\n",
       "      <td>4.385090</td>\n",
       "    </tr>\n",
       "    <tr>\n",
       "      <th>2</th>\n",
       "      <td>2.948751</td>\n",
       "      <td>0.439558</td>\n",
       "      <td>2.059661</td>\n",
       "      <td>3.837841</td>\n",
       "      <td>1.450860</td>\n",
       "      <td>4.446641</td>\n",
       "    </tr>\n",
       "    <tr>\n",
       "      <th>3</th>\n",
       "      <td>3.047990</td>\n",
       "      <td>0.408303</td>\n",
       "      <td>2.222119</td>\n",
       "      <td>3.873860</td>\n",
       "      <td>1.586737</td>\n",
       "      <td>4.509242</td>\n",
       "    </tr>\n",
       "    <tr>\n",
       "      <th>4</th>\n",
       "      <td>3.144031</td>\n",
       "      <td>0.379104</td>\n",
       "      <td>2.377221</td>\n",
       "      <td>3.910841</td>\n",
       "      <td>1.715328</td>\n",
       "      <td>4.572735</td>\n",
       "    </tr>\n",
       "  </tbody>\n",
       "</table>\n",
       "</div>"
      ],
      "text/plain": [
       "       mean   mean_se  mean_ci_lower  mean_ci_upper  obs_ci_lower  \\\n",
       "0  2.740481  0.508197       1.712556       3.768406      1.156238   \n",
       "1  2.846265  0.472858       1.889819       3.802710      1.307439   \n",
       "2  2.948751  0.439558       2.059661       3.837841      1.450860   \n",
       "3  3.047990  0.408303       2.222119       3.873860      1.586737   \n",
       "4  3.144031  0.379104       2.377221       3.910841      1.715328   \n",
       "\n",
       "   obs_ci_upper  \n",
       "0      4.324724  \n",
       "1      4.385090  \n",
       "2      4.446641  \n",
       "3      4.509242  \n",
       "4      4.572735  "
      ]
     },
     "execution_count": 14,
     "metadata": {},
     "output_type": "execute_result"
    }
   ],
   "source": [
    "# %load ../solutions/exercise1-1.py\n",
    "fit2_lm = sm.ols(formula=\"y ~ age + np.power(age, 2) + np.power(age, 3)\",data=diab).fit()\n",
    "\n",
    "poly_predictions = fit2_lm.get_prediction(predict_df).summary_frame()\n",
    "poly_predictions.head()\n"
   ]
  },
  {
   "cell_type": "code",
   "execution_count": 15,
   "metadata": {},
   "outputs": [
    {
     "data": {
      "image/png": "[encoded data removed]",
      "text/plain": [
       "<Figure size 432x288 with 1 Axes>"
      ]
     },
     "metadata": {
      "needs_background": "light"
     },
     "output_type": "display_data"
    }
   ],
   "source": [
    "# %load ../solutions/exercise1-2.py\n",
    "ax2 = diab.plot.scatter(x='age',y='y',c='Red',title=\"Diabetes data with least-squares cubic fit\")\n",
    "ax2.set_xlabel(\"Age at Diagnosis\")\n",
    "ax2.set_ylabel(\"Log C-Peptide Concentration\")\n",
    "\n",
    "ax2.plot(predict_df.age, poly_predictions['mean'],color=\"green\")\n",
    "ax2.plot(predict_df.age, poly_predictions['mean_ci_lower'], color=\"blue\",linestyle=\"dashed\")\n",
    "ax2.plot(predict_df.age, poly_predictions['mean_ci_upper'], color=\"blue\",linestyle=\"dashed\");"
   ]
  },
  {
   "cell_type": "markdown",
   "metadata": {},
   "source": [
    "<div class=\"discussion\"><b>Ed exercise</b></div>\n",
    "\n",
    "This example was similar with the Ed exercise. [Open it in Ed](https://us.edstem.org/courses/172/lessons/656/slides/2916) and let's go though it. "
   ]
  },
  {
   "cell_type": "markdown",
   "metadata": {},
   "source": [
    "### 2 - Piecewise Polynomials a.k.a. Splines\n",
    "\n",
    "Splines are a type of piecewise polynomial interpolant. A spline of degree k is a piecewise polynomial that is continuously differentiable k − 1 times. \n",
    "\n",
    "Splines are the basis of CAD software and vector graphics including a lot of the fonts used in your computer.  The name “spline” comes from a tool used by ship designers to draw smooth curves. Here is the letter $epsilon$ written with splines:\n",
    "\n",
    "![](../images/epsilon.png)\n",
    "\n",
    "*font idea inspired by David Knezevic (AM205)*\n",
    "\n",
    "If the degree is 1 then we have a Linear Spline. If it is 3 then we have a Cubic spline. It turns out that cubic splines because they have a continous 2nd derivative at the knots are very smoothly looking to the eye. We do not need higher order than that. The Cubic Splines are usually Natural Cubic Splines which means they have the added constrain of the end points' second derivative = 0.\n",
    "\n",
    "We will use the CubicSpline and the B-Spline as well as the Linear Spline.\n",
    "\n",
    "#### scipy.interpolate\n",
    "\n",
    "See all the different splines that scipy.interpolate has to offer: https://docs.scipy.org/doc/scipy/reference/interpolate.html\n",
    "\n",
    "Let's use the simplest form which is interpolate on a set of points and then find the points between them."
   ]
  },
  {
   "cell_type": "code",
   "execution_count": 16,
   "metadata": {},
   "outputs": [
    {
     "data": {
      "image/png": "[encoded data removed]",
      "text/plain": [
       "<Figure size 432x288 with 1 Axes>"
      ]
     },
     "metadata": {
      "needs_background": "light"
     },
     "output_type": "display_data"
    }
   ],
   "source": [
    "from scipy.interpolate import splrep, splev\n",
    "from scipy.interpolate import BSpline, CubicSpline\n",
    "from scipy.interpolate import interp1d\n",
    "\n",
    "# define the range of the function\n",
    "a = -1\n",
    "b = 1\n",
    "\n",
    "# define the number of knots \n",
    "num_knots = 10\n",
    "x = np.linspace(a,b,num_knots)\n",
    "\n",
    "# define the function we want to approximate\n",
    "y = 1/(1+25*(x**2))\n",
    "\n",
    "# make a linear spline\n",
    "linspline = interp1d(x, y)\n",
    "\n",
    "# sample at these points to plot\n",
    "xx = np.linspace(a,b,1000)\n",
    "yy = 1/(1+25*(xx**2))\n",
    "plt.plot(x,y,'*')\n",
    "plt.plot(xx, yy, label='true function')\n",
    "plt.plot(xx, linspline(xx), label='linear spline');\n",
    "plt.legend();"
   ]
  },
  {
   "cell_type": "markdown",
   "metadata": {},
   "source": [
    "<div class=\"exercise\"><b>Exercise 2</b></div>\n",
    "\n",
    "The Linear interpolation does not look very good. Fit a Cubic Spline and plot along the Linear to compare."
   ]
  },
  {
   "cell_type": "code",
   "execution_count": 17,
   "metadata": {},
   "outputs": [],
   "source": [
    "# your answer here\n"
   ]
  },
  {
   "cell_type": "code",
   "execution_count": 18,
   "metadata": {
    "scrolled": true
   },
   "outputs": [
    {
     "data": {
      "image/png": "[encoded data removed]",
      "text/plain": [
       "<Figure size 432x288 with 1 Axes>"
      ]
     },
     "metadata": {
      "needs_background": "light"
     },
     "output_type": "display_data"
    }
   ],
   "source": [
    "# %load ../solutions/exercise2.py\n",
    "# define the range of the function\n",
    "a = -1\n",
    "b = 1\n",
    "\n",
    "# define the knots \n",
    "num_knots = 10\n",
    "x = np.linspace(a,b,num_knots)\n",
    "\n",
    "# define the function we want to approximate\n",
    "y = 1/(1+25*(x**2))\n",
    "\n",
    "# make the Cubic spline\n",
    "cubspline = CubicSpline(x, y)\n",
    "\n",
    "# OR make a linear spline\n",
    "linspline = interp1d(x, y)\n",
    "\n",
    "# plot\n",
    "xx = np.linspace(a,b,1000)\n",
    "yy = 1/(1+25*(xx**2))\n",
    "plt.plot(xx, yy, label='true function')\n",
    "plt.plot(x,y,'*')\n",
    "plt.plot(xx, linspline(xx), label='linear');\n",
    "plt.plot(xx, cubspline(xx), label='cubic');\n",
    "plt.legend();\n"
   ]
  },
  {
   "cell_type": "markdown",
   "metadata": {},
   "source": [
    "<div class=\"discussion\"><b>Discussion</b></div>\n",
    "\n",
    "- Change the number of knots to 100 and see what happens. What would happen if we run a polynomial model of degree equal to the number of knots (a global one as in polynomial regression, not a spline)?\n",
    "- What makes a spline 'Natural'?"
   ]
  },
  {
   "cell_type": "markdown",
   "metadata": {},
   "source": [
    "#### B-Splines\n",
    "\n",
    "A B-splines (Basis Splines) is defined by a set of **control points** and a set of **basis functions** that intepolate (fit) the function between these points. By choosing to have no smoothing factor we forces the final B-spline to pass though all the points. If, on the other hand, we set a smothing factor, our function is more of an approximation with the control points as \"guidance\". The latter produced a smoother curve which is prefferable for drawing software. For more on Splines see:  https://en.wikipedia.org/wiki/B-spline)\n",
    "\n",
    "![](../images/B-spline.png)\n",
    "\n",
    "We will use [`scipy.splrep`](https://docs.scipy.org/doc/scipy/reference/generated/scipy.interpolate.splrep.html#scipy.interpolate.splrep) to calulate the coefficients for the B-Spline and draw it. "
   ]
  },
  {
   "cell_type": "markdown",
   "metadata": {},
   "source": [
    "#### B-Spline with no smooting"
   ]
  },
  {
   "cell_type": "code",
   "execution_count": 20,
   "metadata": {},
   "outputs": [
    {
     "name": "stdout",
     "output_type": "stream",
     "text": [
      "[ 0.          0.          0.          0.          2.22222222  3.33333333\n",
      "  4.44444444  5.55555556  6.66666667  7.77777778 10.         10.\n",
      " 10.         10.        ] [-4.94881722e-18  8.96543619e-01  1.39407154e+00 -2.36640266e-01\n",
      " -1.18324030e+00 -8.16301228e-01  4.57836125e-01  1.48720677e+00\n",
      "  1.64338775e-01 -5.44021111e-01  0.00000000e+00  0.00000000e+00\n",
      "  0.00000000e+00  0.00000000e+00] 3\n"
     ]
    },
    {
     "data": {
      "image/png": "[encoded data removed]",
      "text/plain": [
       "<Figure size 432x288 with 1 Axes>"
      ]
     },
     "metadata": {
      "needs_background": "light"
     },
     "output_type": "display_data"
    }
   ],
   "source": [
    "from scipy.interpolate import splev, splrep\n",
    "x = np.linspace(0, 10, 10)\n",
    "y = np.sin(x)\n",
    "\n",
    "t,c,k = splrep(x, y) # (tck) is a tuple containing the vector of knots, coefficients, degree of the spline\n",
    "print(t,c,k)\n",
    "# define the points to plot on (x2)\n",
    "x2 = np.linspace(0, 10, 200)\n",
    "y2 = BSpline(t, c, k)\n",
    "plt.plot(x, y, 'o', x2, y2(x2))\n",
    "plt.show()"
   ]
  },
  {
   "cell_type": "markdown",
   "metadata": {},
   "source": [
    "#### B-Spline with smooting factor s"
   ]
  },
  {
   "cell_type": "code",
   "execution_count": 22,
   "metadata": {},
   "outputs": [
    {
     "name": "stdout",
     "output_type": "stream",
     "text": [
      "<class 'numpy.ndarray'>\n"
     ]
    },
    {
     "data": {
      "image/png": "[encoded data removed]",
      "text/plain": [
       "<Figure size 432x288 with 1 Axes>"
      ]
     },
     "metadata": {
      "needs_background": "light"
     },
     "output_type": "display_data"
    }
   ],
   "source": [
    "from scipy.interpolate import splev, splrep\n",
    "x = np.linspace(0, 10, 10)\n",
    "y = np.sin(x)\n",
    "\n",
    "print(type(x))\n",
    "\n",
    "s = 0.5 # add smooting factor\n",
    "task = 0 # task needs to be set to 0, which represents:\n",
    "# we are specifying a smoothing factor and thus only want\n",
    "# splrep() to find the optimal t and c\n",
    "\n",
    "t,c,k = splrep(x, y, task=task, s=s)\n",
    "\n",
    "# define the points to plot on (x2)\n",
    "x2 = np.linspace(0, 10, 200)\n",
    "y2 = BSpline(t, c, k)\n",
    "plt.plot(x, y, 'o', x2, y2(x2))\n",
    "plt.show()"
   ]
  },
  {
   "cell_type": "markdown",
   "metadata": {},
   "source": [
    "#### B-Spline with given knots"
   ]
  },
  {
   "cell_type": "code",
   "execution_count": null,
   "metadata": {},
   "outputs": [],
   "source": [
    "x = np.linspace(0, 10, 100)\n",
    "y = np.sin(x)\n",
    "knots = np.quantile(x, [0.25, 0.5, 0.75])\n",
    "print(knots)"
   ]
  },
  {
   "cell_type": "code",
   "execution_count": null,
   "metadata": {},
   "outputs": [],
   "source": [
    "# calculate the B-Spline\n",
    "t,c,k = splrep(x, y, t=knots)"
   ]
  },
  {
   "cell_type": "code",
   "execution_count": null,
   "metadata": {},
   "outputs": [],
   "source": [
    "curve = BSpline(t,c,k)\n",
    "curve"
   ]
  },
  {
   "cell_type": "code",
   "execution_count": null,
   "metadata": {
    "scrolled": true
   },
   "outputs": [],
   "source": [
    "plt.scatter(x=x,y=y,c='grey', alpha=0.4)\n",
    "yknots = np.sin(knots)\n",
    "plt.scatter(knots, yknots, c='r')\n",
    "plt.plot(x,curve(x))\n",
    "plt.show()"
   ]
  },
  {
   "cell_type": "markdown",
   "metadata": {},
   "source": [
    "<div class=\"discussion\"><b>Ed exercise</b></div>\n",
    "\n",
    "This example was similar with the Ed exercise. [Open it in Ed](https://us.edstem.org/courses/172/lessons/656/slides/2917) and let's go though it. "
   ]
  },
  {
   "cell_type": "markdown",
   "metadata": {},
   "source": [
    "### 3 - GAMs\n",
    "\n",
    "https://readthedocs.org/projects/pygam/downloads/pdf/latest/\n",
    "\n",
    "#### A - Classification in `pyGAM`\n",
    "\n",
    "Let's get our (multivariate!) data, the `kyphosis` dataset, and the `LogisticGAM` model from `pyGAM` to do binary classification.\n",
    "\n",
    "- kyphosis - wherther a particular deformation was present post-operation\n",
    "- age - patient's age in months\n",
    "- number - the number of vertebrae involved in the operation\n",
    "- start - the number of the topmost vertebrae operated on"
   ]
  },
  {
   "cell_type": "code",
   "execution_count": null,
   "metadata": {
    "scrolled": false
   },
   "outputs": [],
   "source": [
    "kyphosis = pd.read_csv(\"../data/kyphosis.csv\")\n",
    "\n",
    "display(kyphosis.head())\n",
    "display(kyphosis.describe(include='all'))\n",
    "display(kyphosis.dtypes)"
   ]
  },
  {
   "cell_type": "code",
   "execution_count": null,
   "metadata": {},
   "outputs": [],
   "source": [
    "# convert the outcome in a binary form, 1 or 0\n",
    "kyphosis = pd.read_csv(\"../data/kyphosis.csv\")\n",
    "kyphosis[\"outcome\"] = 1*(kyphosis[\"Kyphosis\"] == \"present\")\n",
    "kyphosis.describe()"
   ]
  },
  {
   "cell_type": "code",
   "execution_count": null,
   "metadata": {},
   "outputs": [],
   "source": [
    "from pygam import LogisticGAM, s, f, l\n",
    "\n",
    "X = kyphosis[[\"Age\",\"Number\",\"Start\"]]\n",
    "y = kyphosis[\"outcome\"]\n",
    "kyph_gam = LogisticGAM().fit(X,y)"
   ]
  },
  {
   "cell_type": "markdown",
   "metadata": {},
   "source": [
    "#### Outcome dependence on features\n",
    "\n",
    "To help us see how the outcome depends on each feature, `pyGAM` has the `partial_dependence()` function.\n",
    "```\n",
    " pdep, confi = kyph_gam.partial_dependence(term=i, X=XX, width=0.95)\n",
    "```\n",
    "For more on this see the : https://pygam.readthedocs.io/en/latest/api/logisticgam.html\n"
   ]
  },
  {
   "cell_type": "code",
   "execution_count": null,
   "metadata": {},
   "outputs": [],
   "source": [
    "res = kyph_gam.deviance_residuals(X,y)\n",
    "for i, term in enumerate(kyph_gam.terms):\n",
    "    if term.isintercept:\n",
    "        continue\n",
    "\n",
    "    XX = kyph_gam.generate_X_grid(term=i)\n",
    "    pdep, confi = kyph_gam.partial_dependence(term=i, X=XX, width=0.95)\n",
    "    pdep2, _ = kyph_gam.partial_dependence(term=i, X=X, width=0.95)\n",
    "    plt.figure()\n",
    "    plt.scatter(X.iloc[:,term.feature], pdep2 + res)\n",
    "    plt.plot(XX[:, term.feature], pdep)\n",
    "    plt.plot(XX[:, term.feature], confi, c='r', ls='--')\n",
    "    plt.title(X.columns.values[term.feature])\n",
    "    plt.show()"
   ]
  },
  {
   "cell_type": "markdown",
   "metadata": {},
   "source": [
    "Notice that we did not specify the basis functions in the .fit(). Cool. `pyGAM` figures them out for us by using $s()$ (splines) for numerical variables and $f()$ for categorical features. If this is not what we want we can manually specify the basis functions, as follows: "
   ]
  },
  {
   "cell_type": "code",
   "execution_count": null,
   "metadata": {},
   "outputs": [],
   "source": [
    "kyph_gam = LogisticGAM(s(0)+s(1)+s(2)).fit(X,y)"
   ]
  },
  {
   "cell_type": "code",
   "execution_count": null,
   "metadata": {},
   "outputs": [],
   "source": [
    "res = kyph_gam.deviance_residuals(X,y)\n",
    "for i, term in enumerate(kyph_gam.terms):\n",
    "    if term.isintercept:\n",
    "        continue\n",
    "\n",
    "    XX = kyph_gam.generate_X_grid(term=i)\n",
    "    pdep, confi = kyph_gam.partial_dependence(term=i, X=XX, width=0.95)\n",
    "    pdep2, _ = kyph_gam.partial_dependence(term=i, X=X, width=0.95)\n",
    "    plt.figure()\n",
    "    plt.scatter(X.iloc[:,term.feature], pdep2 + res)\n",
    "    plt.plot(XX[:, term.feature], pdep)\n",
    "    plt.plot(XX[:, term.feature], confi, c='r', ls='--')\n",
    "    plt.title(X.columns.values[term.feature])\n",
    "    plt.show()"
   ]
  },
  {
   "cell_type": "markdown",
   "metadata": {},
   "source": [
    "#### B - Regression in `pyGAM`\n",
    "\n",
    "For regression problems, we can use a `linearGAM` model. For this part we will use the `wages` dataset.\n",
    "\n",
    "https://pygam.readthedocs.io/en/latest/api/lineargam.html"
   ]
  },
  {
   "cell_type": "markdown",
   "metadata": {},
   "source": [
    "#### The `wages` dataset\n",
    "\n",
    "Let's inspect another dataset that is included in `pyGAM` that notes the wages of people based on their age, year of employment and education."
   ]
  },
  {
   "cell_type": "code",
   "execution_count": 24,
   "metadata": {},
   "outputs": [
    {
     "data": {
      "text/plain": [
       "array([[2.006e+03, 1.800e+01, 0.000e+00],\n",
       "       [2.004e+03, 2.400e+01, 3.000e+00],\n",
       "       [2.003e+03, 4.500e+01, 2.000e+00],\n",
       "       ...,\n",
       "       [2.005e+03, 2.700e+01, 0.000e+00],\n",
       "       [2.005e+03, 2.700e+01, 2.000e+00],\n",
       "       [2.009e+03, 5.500e+01, 1.000e+00]])"
      ]
     },
     "execution_count": 24,
     "metadata": {},
     "output_type": "execute_result"
    }
   ],
   "source": [
    "# from the pyGAM documentation\n",
    "from pygam import LinearGAM, s, f\n",
    "from pygam.datasets import wage\n",
    "\n",
    "X, y = wage(return_X_y=True)\n",
    "\n",
    "X\n",
    "# ## model\n",
    "# gam = LinearGAM(s(0) + s(1) + f(2))\n",
    "# gam.gridsearch(X, y)\n",
    "\n",
    "\n",
    "# ## plotting\n",
    "# plt.figure();\n",
    "# fig, axs = plt.subplots(1,3);\n",
    "\n",
    "# titles = ['year', 'age', 'education']\n",
    "# for i, ax in enumerate(axs):\n",
    "#     XX = gam.generate_X_grid(term=i)\n",
    "#     ax.plot(XX[:, i], gam.partial_dependence(term=i, X=XX))\n",
    "#     ax.plot(XX[:, i], gam.partial_dependence(term=i, X=XX, width=.95)[1], c='r', ls='--')\n",
    "#     if i == 0:\n",
    "#         ax.set_ylim(-30,30)\n",
    "#     ax.set_title(titles[i]);"
   ]
  },
  {
   "cell_type": "markdown",
   "metadata": {},
   "source": [
    "<div class=\"discussion\"><b>Discussion</b></div>\n",
    "\n",
    "What are your observations from the plots above?"
   ]
  },
  {
   "cell_type": "markdown",
   "metadata": {},
   "source": [
    "### 4 - Smoothing Splines using pyGAM\n",
    "\n",
    "For clarity: this is the fancy spline model that minimizes $MSE - \\lambda\\cdot\\text{wiggle penalty}$ $=$ $\\sum_{i=1}^N \\left(y_i - f(x_i)\\right)^2 - \\lambda \\int \\left(f''(x)\\right)^2$, across all possible functions $f$. The winner will always be a continuous, cubic polynomial with a knot at each data point."
   ]
  },
  {
   "cell_type": "markdown",
   "metadata": {},
   "source": [
    "Let's see how this smoothing works in `pyGAM`. We start by creating some arbitrary data and fitting them with a GAM."
   ]
  },
  {
   "cell_type": "code",
   "execution_count": 26,
   "metadata": {},
   "outputs": [
    {
     "data": {
      "image/png": "[encoded data removed]",
      "text/plain": [
       "<Figure size 432x288 with 1 Axes>"
      ]
     },
     "metadata": {
      "needs_background": "light"
     },
     "output_type": "display_data"
    }
   ],
   "source": [
    "X = np.linspace(0,10,500)\n",
    "y = np.sin(X*2*np.pi)*X + np.random.randn(len(X))\n",
    "\n",
    "plt.scatter(X,y);"
   ]
  },
  {
   "cell_type": "code",
   "execution_count": 27,
   "metadata": {},
   "outputs": [
    {
     "data": {
      "image/png": "[encoded data removed]",
      "text/plain": [
       "<Figure size 432x288 with 1 Axes>"
      ]
     },
     "metadata": {
      "needs_background": "light"
     },
     "output_type": "display_data"
    }
   ],
   "source": [
    "# let's try a large lambda first and lots of splines\n",
    "gam = LinearGAM(lam=1e6, n_splines=50). fit(X,y)\n",
    "XX = gam.generate_X_grid(term=0)\n",
    "plt.scatter(X,y,alpha=0.3);\n",
    "plt.plot(XX, gam.predict(XX));"
   ]
  },
  {
   "cell_type": "markdown",
   "metadata": {},
   "source": [
    "We see that the large $\\lambda$ forces a straight line, no flexibility. Let's see now what happens if we make it smaller."
   ]
  },
  {
   "cell_type": "code",
   "execution_count": null,
   "metadata": {},
   "outputs": [],
   "source": [
    "# let's try a smaller lambda \n",
    "gam = LinearGAM(lam=1e2, n_splines=50). fit(X,y)\n",
    "XX = gam.generate_X_grid(term=0)\n",
    "plt.scatter(X,y,alpha=0.3);\n",
    "plt.plot(XX, gam.predict(XX));"
   ]
  },
  {
   "cell_type": "markdown",
   "metadata": {},
   "source": [
    "There is some curvature there but still not a good fit. Let's try no penalty. That should have the line fit exactly."
   ]
  },
  {
   "cell_type": "code",
   "execution_count": null,
   "metadata": {},
   "outputs": [],
   "source": [
    "# no penalty, let's try a 0 lambda \n",
    "gam = LinearGAM(lam=0, n_splines=50). fit(X,y)\n",
    "XX = gam.generate_X_grid(term=0)\n",
    "plt.scatter(X,y,alpha=0.3)\n",
    "plt.plot(XX, gam.predict(XX))"
   ]
  },
  {
   "cell_type": "markdown",
   "metadata": {},
   "source": [
    "Yes, that is good. Now let's see what happens if we lessen the number of splines. The fit should not be as good."
   ]
  },
  {
   "cell_type": "code",
   "execution_count": null,
   "metadata": {},
   "outputs": [],
   "source": [
    "# no penalty, let's try a 0 lambda \n",
    "gam = LinearGAM(lam=0, n_splines=10). fit(X,y)\n",
    "XX = gam.generate_X_grid(term=0)\n",
    "plt.scatter(X,y,alpha=0.3);\n",
    "plt.plot(XX, gam.predict(XX));"
   ]
  },
  {
   "cell_type": "markdown",
   "metadata": {},
   "source": [
    "Indeed."
   ]
  }
 ],
 "metadata": {
  "kernelspec": {
   "display_name": "Python 3",
   "language": "python",
   "name": "python3"
  },
  "language_info": {
   "codemirror_mode": {
    "name": "ipython",
    "version": 3
   },
   "file_extension": ".py",
   "mimetype": "text/x-python",
   "name": "python",
   "nbconvert_exporter": "python",
   "pygments_lexer": "ipython3",
   "version": "3.6.10"
  }
 },
 "nbformat": 4,
 "nbformat_minor": 1
}
